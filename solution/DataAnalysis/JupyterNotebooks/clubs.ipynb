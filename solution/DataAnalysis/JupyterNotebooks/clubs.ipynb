{
 "cells": [
  {
   "cell_type": "code",
   "execution_count": 5,
   "id": "initial_id",
   "metadata": {
    "collapsed": true,
    "ExecuteTime": {
     "end_time": "2024-04-29T09:56:25.184852900Z",
     "start_time": "2024-04-29T09:56:25.111835700Z"
    }
   },
   "outputs": [
    {
     "data": {
      "text/plain": "     club_id             club_code                               name  \\\n0        105       sv-darmstadt-98   Sportverein Darmstadt 1898 e. V.   \n1      11127     ural-ekaterinburg              FK Ural Yekaterinburg   \n2        114     besiktas-istanbul          Beşiktaş Jimnastik Kulübü   \n3         12                as-rom         Associazione Sportiva Roma   \n4        148     tottenham-hotspur    Tottenham Hotspur Football Club   \n..       ...                   ...                                ...   \n421    68608      cf-os-belenenses                   CF Os Belenenses   \n422      724           fc-volendam             Football Club Volendam   \n423      800      atalanta-bergamo  Atalanta Bergamasca Calcio S.p.a.   \n424      979         moreirense-fc           Moreirense Futebol Clube   \n425      984  west-bromwich-albion               West Bromwich Albion   \n\n    domestic_competition_id  total_market_value  squad_size  average_age  \\\n0                        L1                 NaN          30         26.4   \n1                       RU1                 NaN          25         28.2   \n2                       TR1                 NaN          32         27.4   \n3                       IT1                 NaN          26         27.4   \n4                       GB1                 NaN          29         26.2   \n..                      ...                 ...         ...          ...   \n421                     PO1                 NaN          30         25.7   \n422                     NL1                 NaN          29         22.8   \n423                     IT1                 NaN          25         27.2   \n424                     PO1                 NaN          26         26.0   \n425                     GB1                 NaN          25         27.8   \n\n     foreigners_number  foreigners_percentage  national_team_players  \\\n0                   11                   36.7                      1   \n1                   13                   52.0                      5   \n2                   16                   50.0                     13   \n3                   17                   65.4                     17   \n4                   21                   72.4                     22   \n..                 ...                    ...                    ...   \n421                  5                   16.7                      0   \n422                 14                   48.3                      3   \n423                 17                   68.0                     15   \n424                 17                   65.4                      2   \n425                  8                   32.0                      4   \n\n                         stadium_name  stadium_seats net_transfer_record  \\\n0      Merck-Stadion am Böllenfalltor          17810             €-1.60m   \n1                 Yekaterinburg Arena          23000              €-770k   \n2                     Tüpraş Stadyumu          42590            €-14.50m   \n3                    Olimpico di Roma          73261            +€65.20m   \n4           Tottenham Hotspur Stadium          62062           €-130.40m   \n..                                ...            ...                 ...   \n421                Estádio do Restelo          19980                 +-0   \n422                      Kras Stadion           7384             +€1.80m   \n423                    Gewiss Stadium          21747            +€87.00m   \n424  Estádio C. J. de Almeida Freitas           6153             €-2.05m   \n425                     The Hawthorns          26850             €-1.35m   \n\n     coach_name  last_season  \\\n0           NaN         2023   \n1           NaN         2023   \n2           NaN         2023   \n3           NaN         2023   \n4           NaN         2023   \n..          ...          ...   \n421         NaN         2017   \n422         NaN         2023   \n423         NaN         2023   \n424         NaN         2023   \n425         NaN         2020   \n\n                                                   url  \n0    https://www.transfermarkt.co.uk/sv-darmstadt-9...  \n1    https://www.transfermarkt.co.uk/ural-ekaterinb...  \n2    https://www.transfermarkt.co.uk/besiktas-istan...  \n3    https://www.transfermarkt.co.uk/as-rom/startse...  \n4    https://www.transfermarkt.co.uk/tottenham-hots...  \n..                                                 ...  \n421  https://www.transfermarkt.co.uk/cf-os-belenens...  \n422  https://www.transfermarkt.co.uk/fc-volendam/st...  \n423  https://www.transfermarkt.co.uk/atalanta-berga...  \n424  https://www.transfermarkt.co.uk/moreirense-fc/...  \n425  https://www.transfermarkt.co.uk/west-bromwich-...  \n\n[426 rows x 16 columns]",
      "text/html": "<div>\n<style scoped>\n    .dataframe tbody tr th:only-of-type {\n        vertical-align: middle;\n    }\n\n    .dataframe tbody tr th {\n        vertical-align: top;\n    }\n\n    .dataframe thead th {\n        text-align: right;\n    }\n</style>\n<table border=\"1\" class=\"dataframe\">\n  <thead>\n    <tr style=\"text-align: right;\">\n      <th></th>\n      <th>club_id</th>\n      <th>club_code</th>\n      <th>name</th>\n      <th>domestic_competition_id</th>\n      <th>total_market_value</th>\n      <th>squad_size</th>\n      <th>average_age</th>\n      <th>foreigners_number</th>\n      <th>foreigners_percentage</th>\n      <th>national_team_players</th>\n      <th>stadium_name</th>\n      <th>stadium_seats</th>\n      <th>net_transfer_record</th>\n      <th>coach_name</th>\n      <th>last_season</th>\n      <th>url</th>\n    </tr>\n  </thead>\n  <tbody>\n    <tr>\n      <th>0</th>\n      <td>105</td>\n      <td>sv-darmstadt-98</td>\n      <td>Sportverein Darmstadt 1898 e. V.</td>\n      <td>L1</td>\n      <td>NaN</td>\n      <td>30</td>\n      <td>26.4</td>\n      <td>11</td>\n      <td>36.7</td>\n      <td>1</td>\n      <td>Merck-Stadion am Böllenfalltor</td>\n      <td>17810</td>\n      <td>€-1.60m</td>\n      <td>NaN</td>\n      <td>2023</td>\n      <td>https://www.transfermarkt.co.uk/sv-darmstadt-9...</td>\n    </tr>\n    <tr>\n      <th>1</th>\n      <td>11127</td>\n      <td>ural-ekaterinburg</td>\n      <td>FK Ural Yekaterinburg</td>\n      <td>RU1</td>\n      <td>NaN</td>\n      <td>25</td>\n      <td>28.2</td>\n      <td>13</td>\n      <td>52.0</td>\n      <td>5</td>\n      <td>Yekaterinburg Arena</td>\n      <td>23000</td>\n      <td>€-770k</td>\n      <td>NaN</td>\n      <td>2023</td>\n      <td>https://www.transfermarkt.co.uk/ural-ekaterinb...</td>\n    </tr>\n    <tr>\n      <th>2</th>\n      <td>114</td>\n      <td>besiktas-istanbul</td>\n      <td>Beşiktaş Jimnastik Kulübü</td>\n      <td>TR1</td>\n      <td>NaN</td>\n      <td>32</td>\n      <td>27.4</td>\n      <td>16</td>\n      <td>50.0</td>\n      <td>13</td>\n      <td>Tüpraş Stadyumu</td>\n      <td>42590</td>\n      <td>€-14.50m</td>\n      <td>NaN</td>\n      <td>2023</td>\n      <td>https://www.transfermarkt.co.uk/besiktas-istan...</td>\n    </tr>\n    <tr>\n      <th>3</th>\n      <td>12</td>\n      <td>as-rom</td>\n      <td>Associazione Sportiva Roma</td>\n      <td>IT1</td>\n      <td>NaN</td>\n      <td>26</td>\n      <td>27.4</td>\n      <td>17</td>\n      <td>65.4</td>\n      <td>17</td>\n      <td>Olimpico di Roma</td>\n      <td>73261</td>\n      <td>+€65.20m</td>\n      <td>NaN</td>\n      <td>2023</td>\n      <td>https://www.transfermarkt.co.uk/as-rom/startse...</td>\n    </tr>\n    <tr>\n      <th>4</th>\n      <td>148</td>\n      <td>tottenham-hotspur</td>\n      <td>Tottenham Hotspur Football Club</td>\n      <td>GB1</td>\n      <td>NaN</td>\n      <td>29</td>\n      <td>26.2</td>\n      <td>21</td>\n      <td>72.4</td>\n      <td>22</td>\n      <td>Tottenham Hotspur Stadium</td>\n      <td>62062</td>\n      <td>€-130.40m</td>\n      <td>NaN</td>\n      <td>2023</td>\n      <td>https://www.transfermarkt.co.uk/tottenham-hots...</td>\n    </tr>\n    <tr>\n      <th>...</th>\n      <td>...</td>\n      <td>...</td>\n      <td>...</td>\n      <td>...</td>\n      <td>...</td>\n      <td>...</td>\n      <td>...</td>\n      <td>...</td>\n      <td>...</td>\n      <td>...</td>\n      <td>...</td>\n      <td>...</td>\n      <td>...</td>\n      <td>...</td>\n      <td>...</td>\n      <td>...</td>\n    </tr>\n    <tr>\n      <th>421</th>\n      <td>68608</td>\n      <td>cf-os-belenenses</td>\n      <td>CF Os Belenenses</td>\n      <td>PO1</td>\n      <td>NaN</td>\n      <td>30</td>\n      <td>25.7</td>\n      <td>5</td>\n      <td>16.7</td>\n      <td>0</td>\n      <td>Estádio do Restelo</td>\n      <td>19980</td>\n      <td>+-0</td>\n      <td>NaN</td>\n      <td>2017</td>\n      <td>https://www.transfermarkt.co.uk/cf-os-belenens...</td>\n    </tr>\n    <tr>\n      <th>422</th>\n      <td>724</td>\n      <td>fc-volendam</td>\n      <td>Football Club Volendam</td>\n      <td>NL1</td>\n      <td>NaN</td>\n      <td>29</td>\n      <td>22.8</td>\n      <td>14</td>\n      <td>48.3</td>\n      <td>3</td>\n      <td>Kras Stadion</td>\n      <td>7384</td>\n      <td>+€1.80m</td>\n      <td>NaN</td>\n      <td>2023</td>\n      <td>https://www.transfermarkt.co.uk/fc-volendam/st...</td>\n    </tr>\n    <tr>\n      <th>423</th>\n      <td>800</td>\n      <td>atalanta-bergamo</td>\n      <td>Atalanta Bergamasca Calcio S.p.a.</td>\n      <td>IT1</td>\n      <td>NaN</td>\n      <td>25</td>\n      <td>27.2</td>\n      <td>17</td>\n      <td>68.0</td>\n      <td>15</td>\n      <td>Gewiss Stadium</td>\n      <td>21747</td>\n      <td>+€87.00m</td>\n      <td>NaN</td>\n      <td>2023</td>\n      <td>https://www.transfermarkt.co.uk/atalanta-berga...</td>\n    </tr>\n    <tr>\n      <th>424</th>\n      <td>979</td>\n      <td>moreirense-fc</td>\n      <td>Moreirense Futebol Clube</td>\n      <td>PO1</td>\n      <td>NaN</td>\n      <td>26</td>\n      <td>26.0</td>\n      <td>17</td>\n      <td>65.4</td>\n      <td>2</td>\n      <td>Estádio C. J. de Almeida Freitas</td>\n      <td>6153</td>\n      <td>€-2.05m</td>\n      <td>NaN</td>\n      <td>2023</td>\n      <td>https://www.transfermarkt.co.uk/moreirense-fc/...</td>\n    </tr>\n    <tr>\n      <th>425</th>\n      <td>984</td>\n      <td>west-bromwich-albion</td>\n      <td>West Bromwich Albion</td>\n      <td>GB1</td>\n      <td>NaN</td>\n      <td>25</td>\n      <td>27.8</td>\n      <td>8</td>\n      <td>32.0</td>\n      <td>4</td>\n      <td>The Hawthorns</td>\n      <td>26850</td>\n      <td>€-1.35m</td>\n      <td>NaN</td>\n      <td>2020</td>\n      <td>https://www.transfermarkt.co.uk/west-bromwich-...</td>\n    </tr>\n  </tbody>\n</table>\n<p>426 rows × 16 columns</p>\n</div>"
     },
     "execution_count": 5,
     "metadata": {},
     "output_type": "execute_result"
    }
   ],
   "source": [
    "import pandas as pd\n",
    "import numpy as np\n",
    "import matplotlib.pyplot as plt\n",
    "import seaborn as sns\n",
    "\n",
    "# Caricamento del file clubs.csv\n",
    "clubs_data = pd.read_csv('../data/clubs.csv')\n",
    "\n",
    "clubs_data"
   ]
  },
  {
   "cell_type": "code",
   "execution_count": null,
   "outputs": [],
   "source": [],
   "metadata": {
    "collapsed": false
   },
   "id": "d994ef8022c6fc96"
  },
  {
   "cell_type": "code",
   "execution_count": null,
   "outputs": [],
   "source": [],
   "metadata": {
    "collapsed": false
   },
   "id": "210ee35c51bd51d8"
  }
 ],
 "metadata": {
  "kernelspec": {
   "display_name": "Python 3",
   "language": "python",
   "name": "python3"
  },
  "language_info": {
   "codemirror_mode": {
    "name": "ipython",
    "version": 2
   },
   "file_extension": ".py",
   "mimetype": "text/x-python",
   "name": "python",
   "nbconvert_exporter": "python",
   "pygments_lexer": "ipython2",
   "version": "2.7.6"
  }
 },
 "nbformat": 4,
 "nbformat_minor": 5
}

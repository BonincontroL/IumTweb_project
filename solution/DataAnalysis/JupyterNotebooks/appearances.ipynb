{
 "cells": [
  {
   "cell_type": "code",
   "execution_count": 1,
   "id": "initial_id",
   "metadata": {
    "collapsed": true,
    "ExecuteTime": {
     "end_time": "2024-04-29T13:10:40.813395100Z",
     "start_time": "2024-04-29T13:10:13.747847200Z"
    }
   },
   "outputs": [
    {
     "data": {
      "text/plain": "                              _id   appearance_id  game_id  player_id  \\\n0        6613c8554d41905144e7f865   2231978_38004  2231978      38004   \n1        6613c8554d41905144e7f866   2233748_79232  2233748      79232   \n2        6613c8554d41905144e7f867   2234413_42792  2234413      42792   \n3        6613c8554d41905144e7f868   2234418_73333  2234418      73333   \n4        6613c8554d41905144e7f869  2234421_122011  2234421     122011   \n...                           ...             ...      ...        ...   \n1507346  6613c8c64d41905144fef877  4172154_659813  4172154     659813   \n1507347  6613c8c64d41905144fef878  4172154_696027  4172154     696027   \n1507348  6613c8c64d41905144fef879    4172154_7161  4172154       7161   \n1507349  6613c8c64d41905144fef87a  4172154_743395  4172154     743395   \n1507350  6613c8c64d41905144fef87b  4172154_936981  4172154     936981   \n\n         player_club_id  player_current_club_id       date       player_name  \\\n0                   853                     235 2012-07-03  Aurélien Joachim   \n1                  8841                    2698 2012-07-05    Ruslan Abyshov   \n2                  6251                     465 2012-07-05       Sander Puri   \n3                  1274                    6646 2012-07-05   Vegar Hedenstad   \n4                   195                    3008 2012-07-05  Markus Henriksen   \n...                 ...                     ...        ...               ...   \n1507346              15                      15 2023-11-30    Piero Hincapié   \n1507347              15                      15 2023-11-30      Ayman Aourir   \n1507348              15                      15 2023-11-30     Jonas Hofmann   \n1507349              15                      15 2023-11-30       Noah Mbamba   \n1507350              15                      15 2023-11-30    Gustavo Puerta   \n\n        competition_id  yellow_cards  red_cards  goals  assists  \\\n0                  CLQ             0          0      2        0   \n1                  ELQ             0          0      0        0   \n2                  ELQ             0          0      0        0   \n3                  ELQ             0          0      0        0   \n4                  ELQ             0          0      0        1   \n...                ...           ...        ...    ...      ...   \n1507346             EL             0          0      0        0   \n1507347             EL             0          0      0        0   \n1507348             EL             0          0      0        0   \n1507349             EL             0          0      0        0   \n1507350             EL             0          0      0        0   \n\n         minutes_played  \n0                    90  \n1                    90  \n2                    45  \n3                    90  \n4                    90  \n...                 ...  \n1507346              90  \n1507347               2  \n1507348              10  \n1507349              45  \n1507350              88  \n\n[1507351 rows x 14 columns]",
      "text/html": "<div>\n<style scoped>\n    .dataframe tbody tr th:only-of-type {\n        vertical-align: middle;\n    }\n\n    .dataframe tbody tr th {\n        vertical-align: top;\n    }\n\n    .dataframe thead th {\n        text-align: right;\n    }\n</style>\n<table border=\"1\" class=\"dataframe\">\n  <thead>\n    <tr style=\"text-align: right;\">\n      <th></th>\n      <th>_id</th>\n      <th>appearance_id</th>\n      <th>game_id</th>\n      <th>player_id</th>\n      <th>player_club_id</th>\n      <th>player_current_club_id</th>\n      <th>date</th>\n      <th>player_name</th>\n      <th>competition_id</th>\n      <th>yellow_cards</th>\n      <th>red_cards</th>\n      <th>goals</th>\n      <th>assists</th>\n      <th>minutes_played</th>\n    </tr>\n  </thead>\n  <tbody>\n    <tr>\n      <th>0</th>\n      <td>6613c8554d41905144e7f865</td>\n      <td>2231978_38004</td>\n      <td>2231978</td>\n      <td>38004</td>\n      <td>853</td>\n      <td>235</td>\n      <td>2012-07-03</td>\n      <td>Aurélien Joachim</td>\n      <td>CLQ</td>\n      <td>0</td>\n      <td>0</td>\n      <td>2</td>\n      <td>0</td>\n      <td>90</td>\n    </tr>\n    <tr>\n      <th>1</th>\n      <td>6613c8554d41905144e7f866</td>\n      <td>2233748_79232</td>\n      <td>2233748</td>\n      <td>79232</td>\n      <td>8841</td>\n      <td>2698</td>\n      <td>2012-07-05</td>\n      <td>Ruslan Abyshov</td>\n      <td>ELQ</td>\n      <td>0</td>\n      <td>0</td>\n      <td>0</td>\n      <td>0</td>\n      <td>90</td>\n    </tr>\n    <tr>\n      <th>2</th>\n      <td>6613c8554d41905144e7f867</td>\n      <td>2234413_42792</td>\n      <td>2234413</td>\n      <td>42792</td>\n      <td>6251</td>\n      <td>465</td>\n      <td>2012-07-05</td>\n      <td>Sander Puri</td>\n      <td>ELQ</td>\n      <td>0</td>\n      <td>0</td>\n      <td>0</td>\n      <td>0</td>\n      <td>45</td>\n    </tr>\n    <tr>\n      <th>3</th>\n      <td>6613c8554d41905144e7f868</td>\n      <td>2234418_73333</td>\n      <td>2234418</td>\n      <td>73333</td>\n      <td>1274</td>\n      <td>6646</td>\n      <td>2012-07-05</td>\n      <td>Vegar Hedenstad</td>\n      <td>ELQ</td>\n      <td>0</td>\n      <td>0</td>\n      <td>0</td>\n      <td>0</td>\n      <td>90</td>\n    </tr>\n    <tr>\n      <th>4</th>\n      <td>6613c8554d41905144e7f869</td>\n      <td>2234421_122011</td>\n      <td>2234421</td>\n      <td>122011</td>\n      <td>195</td>\n      <td>3008</td>\n      <td>2012-07-05</td>\n      <td>Markus Henriksen</td>\n      <td>ELQ</td>\n      <td>0</td>\n      <td>0</td>\n      <td>0</td>\n      <td>1</td>\n      <td>90</td>\n    </tr>\n    <tr>\n      <th>...</th>\n      <td>...</td>\n      <td>...</td>\n      <td>...</td>\n      <td>...</td>\n      <td>...</td>\n      <td>...</td>\n      <td>...</td>\n      <td>...</td>\n      <td>...</td>\n      <td>...</td>\n      <td>...</td>\n      <td>...</td>\n      <td>...</td>\n      <td>...</td>\n    </tr>\n    <tr>\n      <th>1507346</th>\n      <td>6613c8c64d41905144fef877</td>\n      <td>4172154_659813</td>\n      <td>4172154</td>\n      <td>659813</td>\n      <td>15</td>\n      <td>15</td>\n      <td>2023-11-30</td>\n      <td>Piero Hincapié</td>\n      <td>EL</td>\n      <td>0</td>\n      <td>0</td>\n      <td>0</td>\n      <td>0</td>\n      <td>90</td>\n    </tr>\n    <tr>\n      <th>1507347</th>\n      <td>6613c8c64d41905144fef878</td>\n      <td>4172154_696027</td>\n      <td>4172154</td>\n      <td>696027</td>\n      <td>15</td>\n      <td>15</td>\n      <td>2023-11-30</td>\n      <td>Ayman Aourir</td>\n      <td>EL</td>\n      <td>0</td>\n      <td>0</td>\n      <td>0</td>\n      <td>0</td>\n      <td>2</td>\n    </tr>\n    <tr>\n      <th>1507348</th>\n      <td>6613c8c64d41905144fef879</td>\n      <td>4172154_7161</td>\n      <td>4172154</td>\n      <td>7161</td>\n      <td>15</td>\n      <td>15</td>\n      <td>2023-11-30</td>\n      <td>Jonas Hofmann</td>\n      <td>EL</td>\n      <td>0</td>\n      <td>0</td>\n      <td>0</td>\n      <td>0</td>\n      <td>10</td>\n    </tr>\n    <tr>\n      <th>1507349</th>\n      <td>6613c8c64d41905144fef87a</td>\n      <td>4172154_743395</td>\n      <td>4172154</td>\n      <td>743395</td>\n      <td>15</td>\n      <td>15</td>\n      <td>2023-11-30</td>\n      <td>Noah Mbamba</td>\n      <td>EL</td>\n      <td>0</td>\n      <td>0</td>\n      <td>0</td>\n      <td>0</td>\n      <td>45</td>\n    </tr>\n    <tr>\n      <th>1507350</th>\n      <td>6613c8c64d41905144fef87b</td>\n      <td>4172154_936981</td>\n      <td>4172154</td>\n      <td>936981</td>\n      <td>15</td>\n      <td>15</td>\n      <td>2023-11-30</td>\n      <td>Gustavo Puerta</td>\n      <td>EL</td>\n      <td>0</td>\n      <td>0</td>\n      <td>0</td>\n      <td>0</td>\n      <td>88</td>\n    </tr>\n  </tbody>\n</table>\n<p>1507351 rows × 14 columns</p>\n</div>"
     },
     "execution_count": 1,
     "metadata": {},
     "output_type": "execute_result"
    }
   ],
   "source": [
    "from pymongo import MongoClient\n",
    "import pandas as pd\n",
    "client = MongoClient('mongodb://localhost:27017/')\n",
    "db=client['MongoDB_project']\n",
    "collection = db['appearances']\n",
    "documents = collection.find()\n",
    "appearances_df = pd.DataFrame(list(documents))\n",
    "appearances_df"
   ]
  },
  {
   "cell_type": "code",
   "outputs": [],
   "source": [],
   "metadata": {
    "collapsed": false
   },
   "id": "d23d2b680148ff16"
  }
 ],
 "metadata": {
  "kernelspec": {
   "display_name": "Python 3",
   "language": "python",
   "name": "python3"
  },
  "language_info": {
   "codemirror_mode": {
    "name": "ipython",
    "version": 2
   },
   "file_extension": ".py",
   "mimetype": "text/x-python",
   "name": "python",
   "nbconvert_exporter": "python",
   "pygments_lexer": "ipython2",
   "version": "2.7.6"
  }
 },
 "nbformat": 4,
 "nbformat_minor": 5
}

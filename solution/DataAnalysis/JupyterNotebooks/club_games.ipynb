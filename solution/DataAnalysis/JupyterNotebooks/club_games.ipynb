{
 "cells": [
  {
   "cell_type": "code",
   "execution_count": 1,
   "id": "initial_id",
   "metadata": {
    "collapsed": true,
    "ExecuteTime": {
     "end_time": "2024-04-29T13:12:52.604119400Z",
     "start_time": "2024-04-29T13:12:50.780057Z"
    }
   },
   "outputs": [
    {
     "data": {
      "text/plain": "                             _id  game_id  club_id  own_goals  \\\n0       6613c0b254a57856bcfde97a  2221751      431          1   \n1       6613c0b254a57856bcfde97b  2221755       83          3   \n2       6613c0b254a57856bcfde97c  2222597     3725          2   \n3       6613c0b254a57856bcfde97d  2222627     2696          0   \n4       6613c0b254a57856bcfde97e  2222658     2410          0   \n...                          ...      ...      ...        ...   \n130427  6613c0bf54a57856bcffe6f6  4126931    20923          2   \n130428  6613c0bf54a57856bcffe6f7  4148237      920          0   \n130429  6613c0bf54a57856bcffe6f8  4171268      681          2   \n130430  6613c0bf54a57856bcffe6f9  4148252      144          3   \n130431  6613c0bf54a57856bcffe6fa  4171248      418          3   \n\n            own_manager_name  opponent_id  opponent_goals  \\\n0              Lutz Göttling           60               2   \n1           Ralph Hasenhüttl         4795               0   \n2       Stanislav Cherchesov          232               1   \n3             Andrey Kobelev         4128               2   \n4             Leonid Slutski          121               2   \n...                      ...          ...             ...   \n130427       Sergey Perednya        12065               1   \n130428      Ruaidhri Higgins        10481               1   \n130429       Imanol Alguacil          409               0   \n130430      Sergej Jakirovic        10532               1   \n130431       Carlo Ancelotti         6195               2   \n\n       opponent_manager_name hosting  is_win  own_position  opponent_position  \n0          Christian Streich    Home       0           NaN                NaN  \n1                 Tomas Oral    Home       1           NaN                NaN  \n2                 Unai Emery    Home       1           2.0                5.0  \n3              Rustem Khuzin    Home       0          11.0               10.0  \n4               Dan Petrescu    Home       0           2.0               13.0  \n...                      ...     ...     ...           ...                ...  \n130427   Aleksandr Gorbachev    Away       1           NaN                NaN  \n130428          Milic Curcic    Away       0           NaN                NaN  \n130429       Gerhard Struber    Away       1           NaN                NaN  \n130430          Dan Brimsvík    Away       1           NaN                NaN  \n130431           Rudi Garcia    Away       1           NaN                NaN  \n\n[130432 rows x 12 columns]",
      "text/html": "<div>\n<style scoped>\n    .dataframe tbody tr th:only-of-type {\n        vertical-align: middle;\n    }\n\n    .dataframe tbody tr th {\n        vertical-align: top;\n    }\n\n    .dataframe thead th {\n        text-align: right;\n    }\n</style>\n<table border=\"1\" class=\"dataframe\">\n  <thead>\n    <tr style=\"text-align: right;\">\n      <th></th>\n      <th>_id</th>\n      <th>game_id</th>\n      <th>club_id</th>\n      <th>own_goals</th>\n      <th>own_manager_name</th>\n      <th>opponent_id</th>\n      <th>opponent_goals</th>\n      <th>opponent_manager_name</th>\n      <th>hosting</th>\n      <th>is_win</th>\n      <th>own_position</th>\n      <th>opponent_position</th>\n    </tr>\n  </thead>\n  <tbody>\n    <tr>\n      <th>0</th>\n      <td>6613c0b254a57856bcfde97a</td>\n      <td>2221751</td>\n      <td>431</td>\n      <td>1</td>\n      <td>Lutz Göttling</td>\n      <td>60</td>\n      <td>2</td>\n      <td>Christian Streich</td>\n      <td>Home</td>\n      <td>0</td>\n      <td>NaN</td>\n      <td>NaN</td>\n    </tr>\n    <tr>\n      <th>1</th>\n      <td>6613c0b254a57856bcfde97b</td>\n      <td>2221755</td>\n      <td>83</td>\n      <td>3</td>\n      <td>Ralph Hasenhüttl</td>\n      <td>4795</td>\n      <td>0</td>\n      <td>Tomas Oral</td>\n      <td>Home</td>\n      <td>1</td>\n      <td>NaN</td>\n      <td>NaN</td>\n    </tr>\n    <tr>\n      <th>2</th>\n      <td>6613c0b254a57856bcfde97c</td>\n      <td>2222597</td>\n      <td>3725</td>\n      <td>2</td>\n      <td>Stanislav Cherchesov</td>\n      <td>232</td>\n      <td>1</td>\n      <td>Unai Emery</td>\n      <td>Home</td>\n      <td>1</td>\n      <td>2.0</td>\n      <td>5.0</td>\n    </tr>\n    <tr>\n      <th>3</th>\n      <td>6613c0b254a57856bcfde97d</td>\n      <td>2222627</td>\n      <td>2696</td>\n      <td>0</td>\n      <td>Andrey Kobelev</td>\n      <td>4128</td>\n      <td>2</td>\n      <td>Rustem Khuzin</td>\n      <td>Home</td>\n      <td>0</td>\n      <td>11.0</td>\n      <td>10.0</td>\n    </tr>\n    <tr>\n      <th>4</th>\n      <td>6613c0b254a57856bcfde97e</td>\n      <td>2222658</td>\n      <td>2410</td>\n      <td>0</td>\n      <td>Leonid Slutski</td>\n      <td>121</td>\n      <td>2</td>\n      <td>Dan Petrescu</td>\n      <td>Home</td>\n      <td>0</td>\n      <td>2.0</td>\n      <td>13.0</td>\n    </tr>\n    <tr>\n      <th>...</th>\n      <td>...</td>\n      <td>...</td>\n      <td>...</td>\n      <td>...</td>\n      <td>...</td>\n      <td>...</td>\n      <td>...</td>\n      <td>...</td>\n      <td>...</td>\n      <td>...</td>\n      <td>...</td>\n      <td>...</td>\n    </tr>\n    <tr>\n      <th>130427</th>\n      <td>6613c0bf54a57856bcffe6f6</td>\n      <td>4126931</td>\n      <td>20923</td>\n      <td>2</td>\n      <td>Sergey Perednya</td>\n      <td>12065</td>\n      <td>1</td>\n      <td>Aleksandr Gorbachev</td>\n      <td>Away</td>\n      <td>1</td>\n      <td>NaN</td>\n      <td>NaN</td>\n    </tr>\n    <tr>\n      <th>130428</th>\n      <td>6613c0bf54a57856bcffe6f7</td>\n      <td>4148237</td>\n      <td>920</td>\n      <td>0</td>\n      <td>Ruaidhri Higgins</td>\n      <td>10481</td>\n      <td>1</td>\n      <td>Milic Curcic</td>\n      <td>Away</td>\n      <td>0</td>\n      <td>NaN</td>\n      <td>NaN</td>\n    </tr>\n    <tr>\n      <th>130429</th>\n      <td>6613c0bf54a57856bcffe6f8</td>\n      <td>4171268</td>\n      <td>681</td>\n      <td>2</td>\n      <td>Imanol Alguacil</td>\n      <td>409</td>\n      <td>0</td>\n      <td>Gerhard Struber</td>\n      <td>Away</td>\n      <td>1</td>\n      <td>NaN</td>\n      <td>NaN</td>\n    </tr>\n    <tr>\n      <th>130430</th>\n      <td>6613c0bf54a57856bcffe6f9</td>\n      <td>4148252</td>\n      <td>144</td>\n      <td>3</td>\n      <td>Sergej Jakirovic</td>\n      <td>10532</td>\n      <td>1</td>\n      <td>Dan Brimsvík</td>\n      <td>Away</td>\n      <td>1</td>\n      <td>NaN</td>\n      <td>NaN</td>\n    </tr>\n    <tr>\n      <th>130431</th>\n      <td>6613c0bf54a57856bcffe6fa</td>\n      <td>4171248</td>\n      <td>418</td>\n      <td>3</td>\n      <td>Carlo Ancelotti</td>\n      <td>6195</td>\n      <td>2</td>\n      <td>Rudi Garcia</td>\n      <td>Away</td>\n      <td>1</td>\n      <td>NaN</td>\n      <td>NaN</td>\n    </tr>\n  </tbody>\n</table>\n<p>130432 rows × 12 columns</p>\n</div>"
     },
     "execution_count": 1,
     "metadata": {},
     "output_type": "execute_result"
    }
   ],
   "source": [
    "from pymongo import MongoClient\n",
    "import pandas as pd\n",
    "client = MongoClient('mongodb://localhost:27017/')\n",
    "db=client['MongoDB_project']\n",
    "collection = db['clubgames']\n",
    "documents = collection.find()\n",
    "club_games_df = pd.DataFrame(list(documents))\n",
    "club_games_df"
   ]
  },
  {
   "cell_type": "code",
   "outputs": [],
   "source": [],
   "metadata": {
    "collapsed": false
   },
   "id": "e1c7a46e148d4abf"
  }
 ],
 "metadata": {
  "kernelspec": {
   "display_name": "Python 3",
   "language": "python",
   "name": "python3"
  },
  "language_info": {
   "codemirror_mode": {
    "name": "ipython",
    "version": 2
   },
   "file_extension": ".py",
   "mimetype": "text/x-python",
   "name": "python",
   "nbconvert_exporter": "python",
   "pygments_lexer": "ipython2",
   "version": "2.7.6"
  }
 },
 "nbformat": 4,
 "nbformat_minor": 5
}

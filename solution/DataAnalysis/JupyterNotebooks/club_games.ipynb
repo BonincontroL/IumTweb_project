{
 "cells": [
  {
   "cell_type": "code",
   "execution_count": 1,
   "id": "initial_id",
   "metadata": {
    "collapsed": true,
    "ExecuteTime": {
     "end_time": "2024-04-30T10:38:13.247677300Z",
     "start_time": "2024-04-30T10:38:04.264921500Z"
    }
   },
   "outputs": [
    {
     "data": {
      "text/plain": "        game_id  club_id  own_goals      own_manager_name  opponent_id  \\\n0       2221751      431          1         Lutz Göttling           60   \n1       2221755       83          3      Ralph Hasenhüttl         4795   \n2       2222597     3725          2  Stanislav Cherchesov          232   \n3       2222627     2696          0        Andrey Kobelev         4128   \n4       2222658     2410          0        Leonid Slutski          121   \n...         ...      ...        ...                   ...          ...   \n130427  4126931    20923          2       Sergey Perednya        12065   \n130428  4148237      920          0      Ruaidhri Higgins        10481   \n130429  4171268      681          2       Imanol Alguacil          409   \n130430  4148252      144          3      Sergej Jakirovic        10532   \n130431  4171248      418          3       Carlo Ancelotti         6195   \n\n        opponent_goals opponent_manager_name hosting  is_win  own_position  \\\n0                    2     Christian Streich    Home       0           NaN   \n1                    0            Tomas Oral    Home       1           NaN   \n2                    1            Unai Emery    Home       1           2.0   \n3                    2         Rustem Khuzin    Home       0          11.0   \n4                    2          Dan Petrescu    Home       0           2.0   \n...                ...                   ...     ...     ...           ...   \n130427               1   Aleksandr Gorbachev    Away       1           NaN   \n130428               1          Milic Curcic    Away       0           NaN   \n130429               0       Gerhard Struber    Away       1           NaN   \n130430               1          Dan Brimsvík    Away       1           NaN   \n130431               2           Rudi Garcia    Away       1           NaN   \n\n        opponent_position  \n0                     NaN  \n1                     NaN  \n2                     5.0  \n3                    10.0  \n4                    13.0  \n...                   ...  \n130427                NaN  \n130428                NaN  \n130429                NaN  \n130430                NaN  \n130431                NaN  \n\n[130432 rows x 11 columns]",
      "text/html": "<div>\n<style scoped>\n    .dataframe tbody tr th:only-of-type {\n        vertical-align: middle;\n    }\n\n    .dataframe tbody tr th {\n        vertical-align: top;\n    }\n\n    .dataframe thead th {\n        text-align: right;\n    }\n</style>\n<table border=\"1\" class=\"dataframe\">\n  <thead>\n    <tr style=\"text-align: right;\">\n      <th></th>\n      <th>game_id</th>\n      <th>club_id</th>\n      <th>own_goals</th>\n      <th>own_manager_name</th>\n      <th>opponent_id</th>\n      <th>opponent_goals</th>\n      <th>opponent_manager_name</th>\n      <th>hosting</th>\n      <th>is_win</th>\n      <th>own_position</th>\n      <th>opponent_position</th>\n    </tr>\n  </thead>\n  <tbody>\n    <tr>\n      <th>0</th>\n      <td>2221751</td>\n      <td>431</td>\n      <td>1</td>\n      <td>Lutz Göttling</td>\n      <td>60</td>\n      <td>2</td>\n      <td>Christian Streich</td>\n      <td>Home</td>\n      <td>0</td>\n      <td>NaN</td>\n      <td>NaN</td>\n    </tr>\n    <tr>\n      <th>1</th>\n      <td>2221755</td>\n      <td>83</td>\n      <td>3</td>\n      <td>Ralph Hasenhüttl</td>\n      <td>4795</td>\n      <td>0</td>\n      <td>Tomas Oral</td>\n      <td>Home</td>\n      <td>1</td>\n      <td>NaN</td>\n      <td>NaN</td>\n    </tr>\n    <tr>\n      <th>2</th>\n      <td>2222597</td>\n      <td>3725</td>\n      <td>2</td>\n      <td>Stanislav Cherchesov</td>\n      <td>232</td>\n      <td>1</td>\n      <td>Unai Emery</td>\n      <td>Home</td>\n      <td>1</td>\n      <td>2.0</td>\n      <td>5.0</td>\n    </tr>\n    <tr>\n      <th>3</th>\n      <td>2222627</td>\n      <td>2696</td>\n      <td>0</td>\n      <td>Andrey Kobelev</td>\n      <td>4128</td>\n      <td>2</td>\n      <td>Rustem Khuzin</td>\n      <td>Home</td>\n      <td>0</td>\n      <td>11.0</td>\n      <td>10.0</td>\n    </tr>\n    <tr>\n      <th>4</th>\n      <td>2222658</td>\n      <td>2410</td>\n      <td>0</td>\n      <td>Leonid Slutski</td>\n      <td>121</td>\n      <td>2</td>\n      <td>Dan Petrescu</td>\n      <td>Home</td>\n      <td>0</td>\n      <td>2.0</td>\n      <td>13.0</td>\n    </tr>\n    <tr>\n      <th>...</th>\n      <td>...</td>\n      <td>...</td>\n      <td>...</td>\n      <td>...</td>\n      <td>...</td>\n      <td>...</td>\n      <td>...</td>\n      <td>...</td>\n      <td>...</td>\n      <td>...</td>\n      <td>...</td>\n    </tr>\n    <tr>\n      <th>130427</th>\n      <td>4126931</td>\n      <td>20923</td>\n      <td>2</td>\n      <td>Sergey Perednya</td>\n      <td>12065</td>\n      <td>1</td>\n      <td>Aleksandr Gorbachev</td>\n      <td>Away</td>\n      <td>1</td>\n      <td>NaN</td>\n      <td>NaN</td>\n    </tr>\n    <tr>\n      <th>130428</th>\n      <td>4148237</td>\n      <td>920</td>\n      <td>0</td>\n      <td>Ruaidhri Higgins</td>\n      <td>10481</td>\n      <td>1</td>\n      <td>Milic Curcic</td>\n      <td>Away</td>\n      <td>0</td>\n      <td>NaN</td>\n      <td>NaN</td>\n    </tr>\n    <tr>\n      <th>130429</th>\n      <td>4171268</td>\n      <td>681</td>\n      <td>2</td>\n      <td>Imanol Alguacil</td>\n      <td>409</td>\n      <td>0</td>\n      <td>Gerhard Struber</td>\n      <td>Away</td>\n      <td>1</td>\n      <td>NaN</td>\n      <td>NaN</td>\n    </tr>\n    <tr>\n      <th>130430</th>\n      <td>4148252</td>\n      <td>144</td>\n      <td>3</td>\n      <td>Sergej Jakirovic</td>\n      <td>10532</td>\n      <td>1</td>\n      <td>Dan Brimsvík</td>\n      <td>Away</td>\n      <td>1</td>\n      <td>NaN</td>\n      <td>NaN</td>\n    </tr>\n    <tr>\n      <th>130431</th>\n      <td>4171248</td>\n      <td>418</td>\n      <td>3</td>\n      <td>Carlo Ancelotti</td>\n      <td>6195</td>\n      <td>2</td>\n      <td>Rudi Garcia</td>\n      <td>Away</td>\n      <td>1</td>\n      <td>NaN</td>\n      <td>NaN</td>\n    </tr>\n  </tbody>\n</table>\n<p>130432 rows × 11 columns</p>\n</div>"
     },
     "execution_count": 1,
     "metadata": {},
     "output_type": "execute_result"
    }
   ],
   "source": [
    "from pymongo import MongoClient\n",
    "import pandas as pd\n",
    "client = MongoClient('mongodb://localhost:27017/')\n",
    "db=client['MongoDB_project']\n",
    "collection = db['clubgames']\n",
    "documents = collection.find({},{'_id':0})\n",
    "club_games_df = pd.DataFrame(list(documents))\n",
    "club_games_df"
   ]
  },
  {
   "cell_type": "code",
   "execution_count": null,
   "outputs": [],
   "source": [],
   "metadata": {
    "collapsed": false
   },
   "id": "1978691c6582d5dd"
  }
 ],
 "metadata": {
  "kernelspec": {
   "display_name": "Python 3",
   "language": "python",
   "name": "python3"
  },
  "language_info": {
   "codemirror_mode": {
    "name": "ipython",
    "version": 2
   },
   "file_extension": ".py",
   "mimetype": "text/x-python",
   "name": "python",
   "nbconvert_exporter": "python",
   "pygments_lexer": "ipython2",
   "version": "2.7.6"
  }
 },
 "nbformat": 4,
 "nbformat_minor": 5
}

{
 "cells": [
  {
   "cell_type": "code",
   "execution_count": 1,
   "id": "initial_id",
   "metadata": {
    "collapsed": true,
    "ExecuteTime": {
     "end_time": "2024-04-29T13:11:50.024379Z",
     "start_time": "2024-04-29T13:11:43.678170800Z"
    }
   },
   "outputs": [
    {
     "data": {
      "text/plain": "                             _id                     game_event_id       date  \\\n0       6613c04f54a57856bcf3bdb5  2f41da30c471492e7d4a984951671677 2012-08-05   \n1       6613c04f54a57856bcf3bdb6  a72f7186d132775f234d3e2f7bc0ed5b 2012-08-05   \n2       6613c04f54a57856bcf3bdb7  b2d721eaed4692a5c59a92323689ef18 2012-08-05   \n3       6613c04f54a57856bcf3bdb8  aef768899cedac0c9a650980219075a2 2012-08-05   \n4       6613c04f54a57856bcf3bdb9  5d6d9533023057b6619ecd145a038bbe 2012-08-05   \n...                          ...                               ...        ...   \n666553  6613c06c54a57856bcfde96e  7f5a6b61ca858e0cd63a58c554b56bb7 2023-11-15   \n666554  6613c06c54a57856bcfde96f  5b93d1bc9e8bf42965682d491e1dd6c7 2023-11-15   \n666555  6613c06c54a57856bcfde970  d638b1e72f531c413487d413258a3130 2023-11-15   \n666556  6613c06c54a57856bcfde971  0ff7774aa1383af83e40c435325463af 2023-11-15   \n666557  6613c06c54a57856bcfde972  c2ba59ead8ee0f17e74e49c506e0d92f 2023-11-15   \n\n        game_id  minute           type  club_id  player_id  \\\n0       2211607      77          Cards      610       4425   \n1       2211607      77          Cards      383      33210   \n2       2211607       3          Goals      383      36500   \n3       2211607      53          Goals      383      36500   \n4       2211607      74  Substitutions      383      36500   \n...         ...     ...            ...      ...        ...   \n666553  4228114      82  Substitutions      358     874064   \n666554  4228114      44          Goals    46889     922572   \n666555  4228114      68  Substitutions    46889     922572   \n666556  4228114      68  Substitutions    46889    1200864   \n666557  4228114      85          Goals      358    1203715   \n\n                                              description  player_assist_id  \\\n0                    1. Yellow card  , Mass confrontation               NaN   \n1                    1. Yellow card  , Mass confrontation               NaN   \n2       , Header, 1. Tournament Goal Assist: , Corner,...           56416.0   \n3       , Right-footed shot, 2. Tournament Goal Assist...          146258.0   \n4                                          , Not reported               NaN   \n...                                                   ...               ...   \n666553                                         , Tactical               NaN   \n666554                      , Penalty, 1. Tournament Goal               NaN   \n666555                                         , Tactical               NaN   \n666556                                         , Tactical               NaN   \n666557            , Right-footed shot, 1. Tournament Goal               NaN   \n\n        player_in_id  \n0                NaN  \n1                NaN  \n2                NaN  \n3                NaN  \n4            49499.0  \n...              ...  \n666553      965607.0  \n666554           NaN  \n666555     1200869.0  \n666556      921121.0  \n666557           NaN  \n\n[666558 rows x 11 columns]",
      "text/html": "<div>\n<style scoped>\n    .dataframe tbody tr th:only-of-type {\n        vertical-align: middle;\n    }\n\n    .dataframe tbody tr th {\n        vertical-align: top;\n    }\n\n    .dataframe thead th {\n        text-align: right;\n    }\n</style>\n<table border=\"1\" class=\"dataframe\">\n  <thead>\n    <tr style=\"text-align: right;\">\n      <th></th>\n      <th>_id</th>\n      <th>game_event_id</th>\n      <th>date</th>\n      <th>game_id</th>\n      <th>minute</th>\n      <th>type</th>\n      <th>club_id</th>\n      <th>player_id</th>\n      <th>description</th>\n      <th>player_assist_id</th>\n      <th>player_in_id</th>\n    </tr>\n  </thead>\n  <tbody>\n    <tr>\n      <th>0</th>\n      <td>6613c04f54a57856bcf3bdb5</td>\n      <td>2f41da30c471492e7d4a984951671677</td>\n      <td>2012-08-05</td>\n      <td>2211607</td>\n      <td>77</td>\n      <td>Cards</td>\n      <td>610</td>\n      <td>4425</td>\n      <td>1. Yellow card  , Mass confrontation</td>\n      <td>NaN</td>\n      <td>NaN</td>\n    </tr>\n    <tr>\n      <th>1</th>\n      <td>6613c04f54a57856bcf3bdb6</td>\n      <td>a72f7186d132775f234d3e2f7bc0ed5b</td>\n      <td>2012-08-05</td>\n      <td>2211607</td>\n      <td>77</td>\n      <td>Cards</td>\n      <td>383</td>\n      <td>33210</td>\n      <td>1. Yellow card  , Mass confrontation</td>\n      <td>NaN</td>\n      <td>NaN</td>\n    </tr>\n    <tr>\n      <th>2</th>\n      <td>6613c04f54a57856bcf3bdb7</td>\n      <td>b2d721eaed4692a5c59a92323689ef18</td>\n      <td>2012-08-05</td>\n      <td>2211607</td>\n      <td>3</td>\n      <td>Goals</td>\n      <td>383</td>\n      <td>36500</td>\n      <td>, Header, 1. Tournament Goal Assist: , Corner,...</td>\n      <td>56416.0</td>\n      <td>NaN</td>\n    </tr>\n    <tr>\n      <th>3</th>\n      <td>6613c04f54a57856bcf3bdb8</td>\n      <td>aef768899cedac0c9a650980219075a2</td>\n      <td>2012-08-05</td>\n      <td>2211607</td>\n      <td>53</td>\n      <td>Goals</td>\n      <td>383</td>\n      <td>36500</td>\n      <td>, Right-footed shot, 2. Tournament Goal Assist...</td>\n      <td>146258.0</td>\n      <td>NaN</td>\n    </tr>\n    <tr>\n      <th>4</th>\n      <td>6613c04f54a57856bcf3bdb9</td>\n      <td>5d6d9533023057b6619ecd145a038bbe</td>\n      <td>2012-08-05</td>\n      <td>2211607</td>\n      <td>74</td>\n      <td>Substitutions</td>\n      <td>383</td>\n      <td>36500</td>\n      <td>, Not reported</td>\n      <td>NaN</td>\n      <td>49499.0</td>\n    </tr>\n    <tr>\n      <th>...</th>\n      <td>...</td>\n      <td>...</td>\n      <td>...</td>\n      <td>...</td>\n      <td>...</td>\n      <td>...</td>\n      <td>...</td>\n      <td>...</td>\n      <td>...</td>\n      <td>...</td>\n      <td>...</td>\n    </tr>\n    <tr>\n      <th>666553</th>\n      <td>6613c06c54a57856bcfde96e</td>\n      <td>7f5a6b61ca858e0cd63a58c554b56bb7</td>\n      <td>2023-11-15</td>\n      <td>4228114</td>\n      <td>82</td>\n      <td>Substitutions</td>\n      <td>358</td>\n      <td>874064</td>\n      <td>, Tactical</td>\n      <td>NaN</td>\n      <td>965607.0</td>\n    </tr>\n    <tr>\n      <th>666554</th>\n      <td>6613c06c54a57856bcfde96f</td>\n      <td>5b93d1bc9e8bf42965682d491e1dd6c7</td>\n      <td>2023-11-15</td>\n      <td>4228114</td>\n      <td>44</td>\n      <td>Goals</td>\n      <td>46889</td>\n      <td>922572</td>\n      <td>, Penalty, 1. Tournament Goal</td>\n      <td>NaN</td>\n      <td>NaN</td>\n    </tr>\n    <tr>\n      <th>666555</th>\n      <td>6613c06c54a57856bcfde970</td>\n      <td>d638b1e72f531c413487d413258a3130</td>\n      <td>2023-11-15</td>\n      <td>4228114</td>\n      <td>68</td>\n      <td>Substitutions</td>\n      <td>46889</td>\n      <td>922572</td>\n      <td>, Tactical</td>\n      <td>NaN</td>\n      <td>1200869.0</td>\n    </tr>\n    <tr>\n      <th>666556</th>\n      <td>6613c06c54a57856bcfde971</td>\n      <td>0ff7774aa1383af83e40c435325463af</td>\n      <td>2023-11-15</td>\n      <td>4228114</td>\n      <td>68</td>\n      <td>Substitutions</td>\n      <td>46889</td>\n      <td>1200864</td>\n      <td>, Tactical</td>\n      <td>NaN</td>\n      <td>921121.0</td>\n    </tr>\n    <tr>\n      <th>666557</th>\n      <td>6613c06c54a57856bcfde972</td>\n      <td>c2ba59ead8ee0f17e74e49c506e0d92f</td>\n      <td>2023-11-15</td>\n      <td>4228114</td>\n      <td>85</td>\n      <td>Goals</td>\n      <td>358</td>\n      <td>1203715</td>\n      <td>, Right-footed shot, 1. Tournament Goal</td>\n      <td>NaN</td>\n      <td>NaN</td>\n    </tr>\n  </tbody>\n</table>\n<p>666558 rows × 11 columns</p>\n</div>"
     },
     "execution_count": 1,
     "metadata": {},
     "output_type": "execute_result"
    }
   ],
   "source": [
    "from pymongo import MongoClient\n",
    "import pandas as pd\n",
    "client = MongoClient('mongodb://localhost:27017/')\n",
    "db=client['MongoDB_project']\n",
    "collection = db['gameevents']\n",
    "documents = collection.find()\n",
    "game_events_df = pd.DataFrame(list(documents))\n",
    "game_events_df"
   ]
  },
  {
   "cell_type": "code",
   "outputs": [],
   "source": [],
   "metadata": {
    "collapsed": false
   },
   "id": "8847dbb681190d43"
  }
 ],
 "metadata": {
  "kernelspec": {
   "display_name": "Python 3",
   "language": "python",
   "name": "python3"
  },
  "language_info": {
   "codemirror_mode": {
    "name": "ipython",
    "version": 2
   },
   "file_extension": ".py",
   "mimetype": "text/x-python",
   "name": "python",
   "nbconvert_exporter": "python",
   "pygments_lexer": "ipython2",
   "version": "2.7.6"
  }
 },
 "nbformat": 4,
 "nbformat_minor": 5
}

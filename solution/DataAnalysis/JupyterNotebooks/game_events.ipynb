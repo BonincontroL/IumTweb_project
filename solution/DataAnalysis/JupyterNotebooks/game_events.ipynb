{
 "cells": [
  {
   "cell_type": "code",
   "execution_count": 1,
   "id": "initial_id",
   "metadata": {
    "collapsed": true,
    "ExecuteTime": {
     "end_time": "2024-04-30T20:09:19.827349400Z",
     "start_time": "2024-04-30T20:09:11.474637500Z"
    }
   },
   "outputs": [
    {
     "data": {
      "text/plain": "             date  game_id  minute           type  club_id  player_id  \\\n0      2012-08-05  2211607      77          Cards      610       4425   \n1      2012-08-05  2211607      77          Cards      383      33210   \n2      2012-08-05  2211607       3          Goals      383      36500   \n3      2012-08-05  2211607      53          Goals      383      36500   \n4      2012-08-05  2211607      74  Substitutions      383      36500   \n...           ...      ...     ...            ...      ...        ...   \n666553 2023-11-15  4228114      82  Substitutions      358     874064   \n666554 2023-11-15  4228114      44          Goals    46889     922572   \n666555 2023-11-15  4228114      68  Substitutions    46889     922572   \n666556 2023-11-15  4228114      68  Substitutions    46889    1200864   \n666557 2023-11-15  4228114      85          Goals      358    1203715   \n\n        player_assist_id  player_in_id  \n0                    NaN           NaN  \n1                    NaN           NaN  \n2                56416.0           NaN  \n3               146258.0           NaN  \n4                    NaN       49499.0  \n...                  ...           ...  \n666553               NaN      965607.0  \n666554               NaN           NaN  \n666555               NaN     1200869.0  \n666556               NaN      921121.0  \n666557               NaN           NaN  \n\n[666558 rows x 8 columns]",
      "text/html": "<div>\n<style scoped>\n    .dataframe tbody tr th:only-of-type {\n        vertical-align: middle;\n    }\n\n    .dataframe tbody tr th {\n        vertical-align: top;\n    }\n\n    .dataframe thead th {\n        text-align: right;\n    }\n</style>\n<table border=\"1\" class=\"dataframe\">\n  <thead>\n    <tr style=\"text-align: right;\">\n      <th></th>\n      <th>date</th>\n      <th>game_id</th>\n      <th>minute</th>\n      <th>type</th>\n      <th>club_id</th>\n      <th>player_id</th>\n      <th>player_assist_id</th>\n      <th>player_in_id</th>\n    </tr>\n  </thead>\n  <tbody>\n    <tr>\n      <th>0</th>\n      <td>2012-08-05</td>\n      <td>2211607</td>\n      <td>77</td>\n      <td>Cards</td>\n      <td>610</td>\n      <td>4425</td>\n      <td>NaN</td>\n      <td>NaN</td>\n    </tr>\n    <tr>\n      <th>1</th>\n      <td>2012-08-05</td>\n      <td>2211607</td>\n      <td>77</td>\n      <td>Cards</td>\n      <td>383</td>\n      <td>33210</td>\n      <td>NaN</td>\n      <td>NaN</td>\n    </tr>\n    <tr>\n      <th>2</th>\n      <td>2012-08-05</td>\n      <td>2211607</td>\n      <td>3</td>\n      <td>Goals</td>\n      <td>383</td>\n      <td>36500</td>\n      <td>56416.0</td>\n      <td>NaN</td>\n    </tr>\n    <tr>\n      <th>3</th>\n      <td>2012-08-05</td>\n      <td>2211607</td>\n      <td>53</td>\n      <td>Goals</td>\n      <td>383</td>\n      <td>36500</td>\n      <td>146258.0</td>\n      <td>NaN</td>\n    </tr>\n    <tr>\n      <th>4</th>\n      <td>2012-08-05</td>\n      <td>2211607</td>\n      <td>74</td>\n      <td>Substitutions</td>\n      <td>383</td>\n      <td>36500</td>\n      <td>NaN</td>\n      <td>49499.0</td>\n    </tr>\n    <tr>\n      <th>...</th>\n      <td>...</td>\n      <td>...</td>\n      <td>...</td>\n      <td>...</td>\n      <td>...</td>\n      <td>...</td>\n      <td>...</td>\n      <td>...</td>\n    </tr>\n    <tr>\n      <th>666553</th>\n      <td>2023-11-15</td>\n      <td>4228114</td>\n      <td>82</td>\n      <td>Substitutions</td>\n      <td>358</td>\n      <td>874064</td>\n      <td>NaN</td>\n      <td>965607.0</td>\n    </tr>\n    <tr>\n      <th>666554</th>\n      <td>2023-11-15</td>\n      <td>4228114</td>\n      <td>44</td>\n      <td>Goals</td>\n      <td>46889</td>\n      <td>922572</td>\n      <td>NaN</td>\n      <td>NaN</td>\n    </tr>\n    <tr>\n      <th>666555</th>\n      <td>2023-11-15</td>\n      <td>4228114</td>\n      <td>68</td>\n      <td>Substitutions</td>\n      <td>46889</td>\n      <td>922572</td>\n      <td>NaN</td>\n      <td>1200869.0</td>\n    </tr>\n    <tr>\n      <th>666556</th>\n      <td>2023-11-15</td>\n      <td>4228114</td>\n      <td>68</td>\n      <td>Substitutions</td>\n      <td>46889</td>\n      <td>1200864</td>\n      <td>NaN</td>\n      <td>921121.0</td>\n    </tr>\n    <tr>\n      <th>666557</th>\n      <td>2023-11-15</td>\n      <td>4228114</td>\n      <td>85</td>\n      <td>Goals</td>\n      <td>358</td>\n      <td>1203715</td>\n      <td>NaN</td>\n      <td>NaN</td>\n    </tr>\n  </tbody>\n</table>\n<p>666558 rows × 8 columns</p>\n</div>"
     },
     "execution_count": 1,
     "metadata": {},
     "output_type": "execute_result"
    }
   ],
   "source": [
    "from pymongo import MongoClient\n",
    "import pandas as pd\n",
    "client = MongoClient('mongodb://localhost:27017/')\n",
    "db=client['MongoDB_project']\n",
    "collection = db['gameevents']\n",
    "documents = collection.find({},{'_id':0,'game_event_id':0,'description':0})\n",
    "game_events_df = pd.DataFrame(list(documents))\n",
    "game_events_df"
   ]
  },
  {
   "cell_type": "code",
   "outputs": [
    {
     "data": {
      "text/plain": "date                datetime64[ns]\ngame_id                      int64\nminute                       int64\ntype                        object\nclub_id                      int64\nplayer_id                    int64\nplayer_assist_id           float64\nplayer_in_id               float64\ndtype: object"
     },
     "execution_count": 5,
     "metadata": {},
     "output_type": "execute_result"
    }
   ],
   "source": [
    "game_events_df.dtypes"
   ],
   "metadata": {
    "collapsed": false,
    "ExecuteTime": {
     "end_time": "2024-04-29T13:53:22.936793600Z",
     "start_time": "2024-04-29T13:53:22.907522400Z"
    }
   },
   "id": "8847dbb681190d43",
   "execution_count": 5
  }
 ],
 "metadata": {
  "kernelspec": {
   "display_name": "Python 3",
   "language": "python",
   "name": "python3"
  },
  "language_info": {
   "codemirror_mode": {
    "name": "ipython",
    "version": 2
   },
   "file_extension": ".py",
   "mimetype": "text/x-python",
   "name": "python",
   "nbconvert_exporter": "python",
   "pygments_lexer": "ipython2",
   "version": "2.7.6"
  }
 },
 "nbformat": 4,
 "nbformat_minor": 5
}

{
 "cells": [
  {
   "cell_type": "code",
   "execution_count": 1,
   "id": "initial_id",
   "metadata": {
    "collapsed": true,
    "ExecuteTime": {
     "end_time": "2024-04-29T13:12:15.727196800Z",
     "start_time": "2024-04-29T13:12:14.132984300Z"
    }
   },
   "outputs": [
    {
     "data": {
      "text/plain": "                             _id                   game_lineups_id  game_id  \\\n0       6613c0e554a57856bcffe6fc  77b0f371923e0c8bdf050a1e269faaac  3606208   \n1       6613c0e554a57856bcffe6fd  cb6eeedb9f728570615d37b6fe7facaf  3606208   \n2       6613c0e554a57856bcffe6fe  8e63d5f47aac2bdb0e54f5481986e104  3606208   \n3       6613c0e554a57856bcffe6ff  ea4a96d8be410f2d646cf095c4faae7f  3606208   \n4       6613c0e554a57856bcffe700  e6abe553801b09bc623c3deb96acba17  3606208   \n...                          ...                               ...      ...   \n119128  6613c0ef54a57856bc01b856  f4e6a6b2e3d24d12290c6ce4168e1bdb  4228114   \n119129  6613c0ef54a57856bc01b857  7a78814a66c59c79e8d40c8669a67d3f  4228114   \n119130  6613c0ef54a57856bc01b858  09cc07767ce441b4de4a76c102fd17d5  4228114   \n119131  6613c0ef54a57856bc01b859  3c259f1849421af021aba3e84a4da8de  4228114   \n119132  6613c0ef54a57856bc01b85a  92f069e6041dae45375081d7662b2c12  4228114   \n\n        club_id             type number  player_id              player_name  \\\n0           338  starting_lineup     89     419061       Vladyslav Supryaga   \n1           338  starting_lineup     10     368611        Mykola Shaparenko   \n2           338  starting_lineup      5     124182         Sergiy Sydorchuk   \n3           338  starting_lineup     94     181118          Tomasz Kedziora   \n4           338  starting_lineup     16     404842        Vitaliy Mykolenko   \n...         ...              ...    ...        ...                      ...   \n119128    46889      substitutes      3    1200869          Thomas Chambers   \n119129    46889      substitutes      5    1203716  Mohammed-Idris Oshilaja   \n119130    46889      substitutes     13    1200870              Max Ovenden   \n119131    46889      substitutes     12     550816              Julien Anau   \n119132    46889      substitutes     10     128198             Adam Coombes   \n\n        team_captain            position  \n0                  0      Centre-Forward  \n1                  0    Central Midfield  \n2                  1  Defensive Midfield  \n3                  0          Right-Back  \n4                  0           Left-Back  \n...              ...                 ...  \n119128             0           Left-Back  \n119129             0            Defender  \n119130             0          Goalkeeper  \n119131             0  Attacking Midfield  \n119132             0              Attack  \n\n[119133 rows x 10 columns]",
      "text/html": "<div>\n<style scoped>\n    .dataframe tbody tr th:only-of-type {\n        vertical-align: middle;\n    }\n\n    .dataframe tbody tr th {\n        vertical-align: top;\n    }\n\n    .dataframe thead th {\n        text-align: right;\n    }\n</style>\n<table border=\"1\" class=\"dataframe\">\n  <thead>\n    <tr style=\"text-align: right;\">\n      <th></th>\n      <th>_id</th>\n      <th>game_lineups_id</th>\n      <th>game_id</th>\n      <th>club_id</th>\n      <th>type</th>\n      <th>number</th>\n      <th>player_id</th>\n      <th>player_name</th>\n      <th>team_captain</th>\n      <th>position</th>\n    </tr>\n  </thead>\n  <tbody>\n    <tr>\n      <th>0</th>\n      <td>6613c0e554a57856bcffe6fc</td>\n      <td>77b0f371923e0c8bdf050a1e269faaac</td>\n      <td>3606208</td>\n      <td>338</td>\n      <td>starting_lineup</td>\n      <td>89</td>\n      <td>419061</td>\n      <td>Vladyslav Supryaga</td>\n      <td>0</td>\n      <td>Centre-Forward</td>\n    </tr>\n    <tr>\n      <th>1</th>\n      <td>6613c0e554a57856bcffe6fd</td>\n      <td>cb6eeedb9f728570615d37b6fe7facaf</td>\n      <td>3606208</td>\n      <td>338</td>\n      <td>starting_lineup</td>\n      <td>10</td>\n      <td>368611</td>\n      <td>Mykola Shaparenko</td>\n      <td>0</td>\n      <td>Central Midfield</td>\n    </tr>\n    <tr>\n      <th>2</th>\n      <td>6613c0e554a57856bcffe6fe</td>\n      <td>8e63d5f47aac2bdb0e54f5481986e104</td>\n      <td>3606208</td>\n      <td>338</td>\n      <td>starting_lineup</td>\n      <td>5</td>\n      <td>124182</td>\n      <td>Sergiy Sydorchuk</td>\n      <td>1</td>\n      <td>Defensive Midfield</td>\n    </tr>\n    <tr>\n      <th>3</th>\n      <td>6613c0e554a57856bcffe6ff</td>\n      <td>ea4a96d8be410f2d646cf095c4faae7f</td>\n      <td>3606208</td>\n      <td>338</td>\n      <td>starting_lineup</td>\n      <td>94</td>\n      <td>181118</td>\n      <td>Tomasz Kedziora</td>\n      <td>0</td>\n      <td>Right-Back</td>\n    </tr>\n    <tr>\n      <th>4</th>\n      <td>6613c0e554a57856bcffe700</td>\n      <td>e6abe553801b09bc623c3deb96acba17</td>\n      <td>3606208</td>\n      <td>338</td>\n      <td>starting_lineup</td>\n      <td>16</td>\n      <td>404842</td>\n      <td>Vitaliy Mykolenko</td>\n      <td>0</td>\n      <td>Left-Back</td>\n    </tr>\n    <tr>\n      <th>...</th>\n      <td>...</td>\n      <td>...</td>\n      <td>...</td>\n      <td>...</td>\n      <td>...</td>\n      <td>...</td>\n      <td>...</td>\n      <td>...</td>\n      <td>...</td>\n      <td>...</td>\n    </tr>\n    <tr>\n      <th>119128</th>\n      <td>6613c0ef54a57856bc01b856</td>\n      <td>f4e6a6b2e3d24d12290c6ce4168e1bdb</td>\n      <td>4228114</td>\n      <td>46889</td>\n      <td>substitutes</td>\n      <td>3</td>\n      <td>1200869</td>\n      <td>Thomas Chambers</td>\n      <td>0</td>\n      <td>Left-Back</td>\n    </tr>\n    <tr>\n      <th>119129</th>\n      <td>6613c0ef54a57856bc01b857</td>\n      <td>7a78814a66c59c79e8d40c8669a67d3f</td>\n      <td>4228114</td>\n      <td>46889</td>\n      <td>substitutes</td>\n      <td>5</td>\n      <td>1203716</td>\n      <td>Mohammed-Idris Oshilaja</td>\n      <td>0</td>\n      <td>Defender</td>\n    </tr>\n    <tr>\n      <th>119130</th>\n      <td>6613c0ef54a57856bc01b858</td>\n      <td>09cc07767ce441b4de4a76c102fd17d5</td>\n      <td>4228114</td>\n      <td>46889</td>\n      <td>substitutes</td>\n      <td>13</td>\n      <td>1200870</td>\n      <td>Max Ovenden</td>\n      <td>0</td>\n      <td>Goalkeeper</td>\n    </tr>\n    <tr>\n      <th>119131</th>\n      <td>6613c0ef54a57856bc01b859</td>\n      <td>3c259f1849421af021aba3e84a4da8de</td>\n      <td>4228114</td>\n      <td>46889</td>\n      <td>substitutes</td>\n      <td>12</td>\n      <td>550816</td>\n      <td>Julien Anau</td>\n      <td>0</td>\n      <td>Attacking Midfield</td>\n    </tr>\n    <tr>\n      <th>119132</th>\n      <td>6613c0ef54a57856bc01b85a</td>\n      <td>92f069e6041dae45375081d7662b2c12</td>\n      <td>4228114</td>\n      <td>46889</td>\n      <td>substitutes</td>\n      <td>10</td>\n      <td>128198</td>\n      <td>Adam Coombes</td>\n      <td>0</td>\n      <td>Attack</td>\n    </tr>\n  </tbody>\n</table>\n<p>119133 rows × 10 columns</p>\n</div>"
     },
     "execution_count": 1,
     "metadata": {},
     "output_type": "execute_result"
    }
   ],
   "source": [
    "from pymongo import MongoClient\n",
    "import pandas as pd\n",
    "client = MongoClient('mongodb://localhost:27017/')\n",
    "db=client['MongoDB_project']\n",
    "collection = db['gamelineups']\n",
    "documents = collection.find()\n",
    "game_lineups_df = pd.DataFrame(list(documents))\n",
    "game_lineups_df"
   ]
  },
  {
   "cell_type": "code",
   "outputs": [],
   "source": [],
   "metadata": {
    "collapsed": false
   },
   "id": "84c36dcc8b96311"
  }
 ],
 "metadata": {
  "kernelspec": {
   "display_name": "Python 3",
   "language": "python",
   "name": "python3"
  },
  "language_info": {
   "codemirror_mode": {
    "name": "ipython",
    "version": 2
   },
   "file_extension": ".py",
   "mimetype": "text/x-python",
   "name": "python",
   "nbconvert_exporter": "python",
   "pygments_lexer": "ipython2",
   "version": "2.7.6"
  }
 },
 "nbformat": 4,
 "nbformat_minor": 5
}

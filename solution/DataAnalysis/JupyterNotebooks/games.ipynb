{
 "cells": [
  {
   "cell_type": "code",
   "execution_count": 12,
   "id": "initial_id",
   "metadata": {
    "collapsed": true,
    "ExecuteTime": {
     "end_time": "2024-04-29T13:30:02.420919200Z",
     "start_time": "2024-04-29T13:30:00.989575600Z"
    }
   },
   "outputs": [
    {
     "data": {
      "text/plain": "       game_id competition_id  season                     round       date  \\\n0      2222597            RU1    2012               6. Matchday 2012-08-25   \n1      2222627            RU1    2012               5. Matchday 2012-08-20   \n2      2222658            RU1    2012              10. Matchday 2012-09-30   \n3      2222664            RU1    2012               8. Matchday 2012-09-15   \n4      2222683            RU1    2012              12. Matchday 2012-10-22   \n...        ...            ...     ...                       ...        ...   \n65211  2367292             EL    2013                   Group B 2013-11-07   \n65212  2629035            NLP    2015               Third Round 2015-10-27   \n65213  3092951            CLQ    2018  Qualifying Round 2nd leg 2018-08-29   \n65214  4164101            CGB    2023              Second Round 2023-08-29   \n65215  4013659            FAC    2022              Fourth Round 2023-01-29   \n\n       home_club_id  away_club_id  home_club_goals  away_club_goals  \\\n0              3725           232                2                1   \n1              2696          4128                0                2   \n2              2410           121                0                2   \n3               932          2698                1                0   \n4              2696         12438                0                1   \n...             ...           ...              ...              ...   \n65211           383           419                2                0   \n65212           383         16866                6                0   \n65213           383           713                3                0   \n65214           512          1194                6                1   \n65215           512          3684                3                1   \n\n       home_club_position  away_club_position  attendance  \\\n0                     2.0                 5.0     21700.0   \n1                    11.0                10.0     11400.0   \n2                     2.0                13.0     12000.0   \n3                     5.0                 8.0     11408.0   \n4                    11.0                16.0      7534.0   \n...                   ...                 ...         ...   \n65211                 NaN                 NaN     10000.0   \n65212                 NaN                 NaN     31000.0   \n65213                 NaN                 NaN     34200.0   \n65214                 NaN                 NaN      9410.0   \n65215                 NaN                 NaN     14392.0   \n\n                    referee  \\\n0      Vladislav Bezborodov   \n1             Sergey Ivanov   \n2            Sergey Karasev   \n3            Sergey Karasev   \n4         Timur Arslanbekov   \n...                     ...   \n65211        Cristian Balaj   \n65212       Allard Lindhout   \n65213        Anthony Taylor   \n65214     Michael Salisbury   \n65215            David Webb   \n\n                                          home_club_name  \\\n0                                      RFK Akhmat Grozny   \n1                              PFK Krylya Sovetov Samara   \n2                                        PFK CSKA Moskva   \n3                     Футбольный клуб \"Локомотив\" Москва   \n4                              PFK Krylya Sovetov Samara   \n...                                                  ...   \n65211  Eindhovense Voetbalvereniging Philips Sport Ve...   \n65212  Eindhovense Voetbalvereniging Philips Sport Ve...   \n65213  Eindhovense Voetbalvereniging Philips Sport Ve...   \n65214                                         Stoke City   \n65215                                         Stoke City   \n\n                        away_club_name  \n0                    FK Spartak Moskva  \n1                           Amkar Perm  \n2                     FK Dinamo Moskva  \n3                       FC Rubin Kazan  \n4      Volga Nizhniy Novgorod (- 2016)  \n...                                ...  \n65211                              NaN  \n65212                              NaN  \n65213                              NaN  \n65214                              NaN  \n65215                              NaN  \n\n[65216 rows x 15 columns]",
      "text/html": "<div>\n<style scoped>\n    .dataframe tbody tr th:only-of-type {\n        vertical-align: middle;\n    }\n\n    .dataframe tbody tr th {\n        vertical-align: top;\n    }\n\n    .dataframe thead th {\n        text-align: right;\n    }\n</style>\n<table border=\"1\" class=\"dataframe\">\n  <thead>\n    <tr style=\"text-align: right;\">\n      <th></th>\n      <th>game_id</th>\n      <th>competition_id</th>\n      <th>season</th>\n      <th>round</th>\n      <th>date</th>\n      <th>home_club_id</th>\n      <th>away_club_id</th>\n      <th>home_club_goals</th>\n      <th>away_club_goals</th>\n      <th>home_club_position</th>\n      <th>away_club_position</th>\n      <th>attendance</th>\n      <th>referee</th>\n      <th>home_club_name</th>\n      <th>away_club_name</th>\n    </tr>\n  </thead>\n  <tbody>\n    <tr>\n      <th>0</th>\n      <td>2222597</td>\n      <td>RU1</td>\n      <td>2012</td>\n      <td>6. Matchday</td>\n      <td>2012-08-25</td>\n      <td>3725</td>\n      <td>232</td>\n      <td>2</td>\n      <td>1</td>\n      <td>2.0</td>\n      <td>5.0</td>\n      <td>21700.0</td>\n      <td>Vladislav Bezborodov</td>\n      <td>RFK Akhmat Grozny</td>\n      <td>FK Spartak Moskva</td>\n    </tr>\n    <tr>\n      <th>1</th>\n      <td>2222627</td>\n      <td>RU1</td>\n      <td>2012</td>\n      <td>5. Matchday</td>\n      <td>2012-08-20</td>\n      <td>2696</td>\n      <td>4128</td>\n      <td>0</td>\n      <td>2</td>\n      <td>11.0</td>\n      <td>10.0</td>\n      <td>11400.0</td>\n      <td>Sergey Ivanov</td>\n      <td>PFK Krylya Sovetov Samara</td>\n      <td>Amkar Perm</td>\n    </tr>\n    <tr>\n      <th>2</th>\n      <td>2222658</td>\n      <td>RU1</td>\n      <td>2012</td>\n      <td>10. Matchday</td>\n      <td>2012-09-30</td>\n      <td>2410</td>\n      <td>121</td>\n      <td>0</td>\n      <td>2</td>\n      <td>2.0</td>\n      <td>13.0</td>\n      <td>12000.0</td>\n      <td>Sergey Karasev</td>\n      <td>PFK CSKA Moskva</td>\n      <td>FK Dinamo Moskva</td>\n    </tr>\n    <tr>\n      <th>3</th>\n      <td>2222664</td>\n      <td>RU1</td>\n      <td>2012</td>\n      <td>8. Matchday</td>\n      <td>2012-09-15</td>\n      <td>932</td>\n      <td>2698</td>\n      <td>1</td>\n      <td>0</td>\n      <td>5.0</td>\n      <td>8.0</td>\n      <td>11408.0</td>\n      <td>Sergey Karasev</td>\n      <td>Футбольный клуб \"Локомотив\" Москва</td>\n      <td>FC Rubin Kazan</td>\n    </tr>\n    <tr>\n      <th>4</th>\n      <td>2222683</td>\n      <td>RU1</td>\n      <td>2012</td>\n      <td>12. Matchday</td>\n      <td>2012-10-22</td>\n      <td>2696</td>\n      <td>12438</td>\n      <td>0</td>\n      <td>1</td>\n      <td>11.0</td>\n      <td>16.0</td>\n      <td>7534.0</td>\n      <td>Timur Arslanbekov</td>\n      <td>PFK Krylya Sovetov Samara</td>\n      <td>Volga Nizhniy Novgorod (- 2016)</td>\n    </tr>\n    <tr>\n      <th>...</th>\n      <td>...</td>\n      <td>...</td>\n      <td>...</td>\n      <td>...</td>\n      <td>...</td>\n      <td>...</td>\n      <td>...</td>\n      <td>...</td>\n      <td>...</td>\n      <td>...</td>\n      <td>...</td>\n      <td>...</td>\n      <td>...</td>\n      <td>...</td>\n      <td>...</td>\n    </tr>\n    <tr>\n      <th>65211</th>\n      <td>2367292</td>\n      <td>EL</td>\n      <td>2013</td>\n      <td>Group B</td>\n      <td>2013-11-07</td>\n      <td>383</td>\n      <td>419</td>\n      <td>2</td>\n      <td>0</td>\n      <td>NaN</td>\n      <td>NaN</td>\n      <td>10000.0</td>\n      <td>Cristian Balaj</td>\n      <td>Eindhovense Voetbalvereniging Philips Sport Ve...</td>\n      <td>NaN</td>\n    </tr>\n    <tr>\n      <th>65212</th>\n      <td>2629035</td>\n      <td>NLP</td>\n      <td>2015</td>\n      <td>Third Round</td>\n      <td>2015-10-27</td>\n      <td>383</td>\n      <td>16866</td>\n      <td>6</td>\n      <td>0</td>\n      <td>NaN</td>\n      <td>NaN</td>\n      <td>31000.0</td>\n      <td>Allard Lindhout</td>\n      <td>Eindhovense Voetbalvereniging Philips Sport Ve...</td>\n      <td>NaN</td>\n    </tr>\n    <tr>\n      <th>65213</th>\n      <td>3092951</td>\n      <td>CLQ</td>\n      <td>2018</td>\n      <td>Qualifying Round 2nd leg</td>\n      <td>2018-08-29</td>\n      <td>383</td>\n      <td>713</td>\n      <td>3</td>\n      <td>0</td>\n      <td>NaN</td>\n      <td>NaN</td>\n      <td>34200.0</td>\n      <td>Anthony Taylor</td>\n      <td>Eindhovense Voetbalvereniging Philips Sport Ve...</td>\n      <td>NaN</td>\n    </tr>\n    <tr>\n      <th>65214</th>\n      <td>4164101</td>\n      <td>CGB</td>\n      <td>2023</td>\n      <td>Second Round</td>\n      <td>2023-08-29</td>\n      <td>512</td>\n      <td>1194</td>\n      <td>6</td>\n      <td>1</td>\n      <td>NaN</td>\n      <td>NaN</td>\n      <td>9410.0</td>\n      <td>Michael Salisbury</td>\n      <td>Stoke City</td>\n      <td>NaN</td>\n    </tr>\n    <tr>\n      <th>65215</th>\n      <td>4013659</td>\n      <td>FAC</td>\n      <td>2022</td>\n      <td>Fourth Round</td>\n      <td>2023-01-29</td>\n      <td>512</td>\n      <td>3684</td>\n      <td>3</td>\n      <td>1</td>\n      <td>NaN</td>\n      <td>NaN</td>\n      <td>14392.0</td>\n      <td>David Webb</td>\n      <td>Stoke City</td>\n      <td>NaN</td>\n    </tr>\n  </tbody>\n</table>\n<p>65216 rows × 15 columns</p>\n</div>"
     },
     "execution_count": 12,
     "metadata": {},
     "output_type": "execute_result"
    }
   ],
   "source": [
    "from pymongo import MongoClient\n",
    "import pandas as pd\n",
    "client = MongoClient('mongodb://localhost:27017/')\n",
    "db=client['MongoDB_project']\n",
    "collection = db['games']\n",
    "documents = collection.find({},{'_id':0,'home_club_manager_name':0,'away_club_manager_name':0, 'stadium':0,'refree':0,'url':0,'aggregate':0,'competition_type':0,'home_club_formation':0,'away_club_formation':0})\n",
    "games_df = pd.DataFrame(list(documents))\n",
    "games_df"
   ]
  },
  {
   "cell_type": "code",
   "outputs": [
    {
     "data": {
      "text/plain": "_id                               object\ngame_id                            int64\ncompetition_id                    object\nseason                             int64\nround                             object\ndate                      datetime64[ns]\nhome_club_id                       int64\naway_club_id                       int64\nhome_club_goals                    int64\naway_club_goals                    int64\nhome_club_position               float64\naway_club_position               float64\nhome_club_manager_name            object\naway_club_manager_name            object\nstadium                           object\nattendance                       float64\nreferee                           object\nurl                               object\nhome_club_name                    object\naway_club_name                    object\naggregate                         object\ncompetition_type                  object\nhome_club_formation               object\naway_club_formation               object\ndtype: object"
     },
     "execution_count": 11,
     "metadata": {},
     "output_type": "execute_result"
    }
   ],
   "source": [
    "games_df.dtypes"
   ],
   "metadata": {
    "collapsed": false,
    "ExecuteTime": {
     "end_time": "2024-04-29T13:25:26.698619800Z",
     "start_time": "2024-04-29T13:25:26.650046100Z"
    }
   },
   "id": "c6e995e328ed747e",
   "execution_count": 11
  },
  {
   "cell_type": "code",
   "outputs": [],
   "source": [],
   "metadata": {
    "collapsed": false,
    "ExecuteTime": {
     "end_time": "2024-04-29T12:42:19.856779900Z",
     "start_time": "2024-04-29T12:42:19.849020900Z"
    }
   },
   "id": "3a3f44f4e1a7557b",
   "execution_count": 3
  },
  {
   "cell_type": "code",
   "outputs": [],
   "source": [],
   "metadata": {
    "collapsed": false,
    "ExecuteTime": {
     "end_time": "2024-04-29T12:42:19.856779900Z",
     "start_time": "2024-04-29T12:42:19.852531600Z"
    }
   },
   "id": "464a3411a42c2c11",
   "execution_count": 3
  }
 ],
 "metadata": {
  "kernelspec": {
   "display_name": "Python 3",
   "language": "python",
   "name": "python3"
  },
  "language_info": {
   "codemirror_mode": {
    "name": "ipython",
    "version": 2
   },
   "file_extension": ".py",
   "mimetype": "text/x-python",
   "name": "python",
   "nbconvert_exporter": "python",
   "pygments_lexer": "ipython2",
   "version": "2.7.6"
  }
 },
 "nbformat": 4,
 "nbformat_minor": 5
}

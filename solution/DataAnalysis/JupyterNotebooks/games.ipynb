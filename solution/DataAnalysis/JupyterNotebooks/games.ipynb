{
 "cells": [
  {
   "cell_type": "code",
   "execution_count": 92,
   "id": "initial_id",
   "metadata": {
    "collapsed": true,
    "ExecuteTime": {
     "end_time": "2024-05-02T10:28:28.017338Z",
     "start_time": "2024-05-02T10:28:27.071917Z"
    }
   },
   "outputs": [
    {
     "data": {
      "text/plain": "       game_id competition_id  season                     round       date  \\\n0      2222597            RU1    2012               6. Matchday 2012-08-25   \n1      2222627            RU1    2012               5. Matchday 2012-08-20   \n2      2222658            RU1    2012              10. Matchday 2012-09-30   \n3      2222664            RU1    2012               8. Matchday 2012-09-15   \n4      2222683            RU1    2012              12. Matchday 2012-10-22   \n...        ...            ...     ...                       ...        ...   \n65211  2367292             EL    2013                   Group B 2013-11-07   \n65212  2629035            NLP    2015               Third Round 2015-10-27   \n65213  3092951            CLQ    2018  Qualifying Round 2nd leg 2018-08-29   \n65214  4164101            CGB    2023              Second Round 2023-08-29   \n65215  4013659            FAC    2022              Fourth Round 2023-01-29   \n\n       home_club_id  away_club_id  home_club_goals  away_club_goals  \\\n0              3725           232                2                1   \n1              2696          4128                0                2   \n2              2410           121                0                2   \n3               932          2698                1                0   \n4              2696         12438                0                1   \n...             ...           ...              ...              ...   \n65211           383           419                2                0   \n65212           383         16866                6                0   \n65213           383           713                3                0   \n65214           512          1194                6                1   \n65215           512          3684                3                1   \n\n       home_club_position  away_club_position  attendance  \\\n0                     2.0                 5.0     21700.0   \n1                    11.0                10.0     11400.0   \n2                     2.0                13.0     12000.0   \n3                     5.0                 8.0     11408.0   \n4                    11.0                16.0      7534.0   \n...                   ...                 ...         ...   \n65211                 NaN                 NaN     10000.0   \n65212                 NaN                 NaN     31000.0   \n65213                 NaN                 NaN     34200.0   \n65214                 NaN                 NaN      9410.0   \n65215                 NaN                 NaN     14392.0   \n\n                    referee  \\\n0      Vladislav Bezborodov   \n1             Sergey Ivanov   \n2            Sergey Karasev   \n3            Sergey Karasev   \n4         Timur Arslanbekov   \n...                     ...   \n65211        Cristian Balaj   \n65212       Allard Lindhout   \n65213        Anthony Taylor   \n65214     Michael Salisbury   \n65215            David Webb   \n\n                                          home_club_name  \\\n0                                      RFK Akhmat Grozny   \n1                              PFK Krylya Sovetov Samara   \n2                                        PFK CSKA Moskva   \n3                     Футбольный клуб \"Локомотив\" Москва   \n4                              PFK Krylya Sovetov Samara   \n...                                                  ...   \n65211  Eindhovense Voetbalvereniging Philips Sport Ve...   \n65212  Eindhovense Voetbalvereniging Philips Sport Ve...   \n65213  Eindhovense Voetbalvereniging Philips Sport Ve...   \n65214                                         Stoke City   \n65215                                         Stoke City   \n\n                        away_club_name  \n0                    FK Spartak Moskva  \n1                           Amkar Perm  \n2                     FK Dinamo Moskva  \n3                       FC Rubin Kazan  \n4      Volga Nizhniy Novgorod (- 2016)  \n...                                ...  \n65211                              NaN  \n65212                              NaN  \n65213                              NaN  \n65214                              NaN  \n65215                              NaN  \n\n[65216 rows x 15 columns]",
      "text/html": "<div>\n<style scoped>\n    .dataframe tbody tr th:only-of-type {\n        vertical-align: middle;\n    }\n\n    .dataframe tbody tr th {\n        vertical-align: top;\n    }\n\n    .dataframe thead th {\n        text-align: right;\n    }\n</style>\n<table border=\"1\" class=\"dataframe\">\n  <thead>\n    <tr style=\"text-align: right;\">\n      <th></th>\n      <th>game_id</th>\n      <th>competition_id</th>\n      <th>season</th>\n      <th>round</th>\n      <th>date</th>\n      <th>home_club_id</th>\n      <th>away_club_id</th>\n      <th>home_club_goals</th>\n      <th>away_club_goals</th>\n      <th>home_club_position</th>\n      <th>away_club_position</th>\n      <th>attendance</th>\n      <th>referee</th>\n      <th>home_club_name</th>\n      <th>away_club_name</th>\n    </tr>\n  </thead>\n  <tbody>\n    <tr>\n      <th>0</th>\n      <td>2222597</td>\n      <td>RU1</td>\n      <td>2012</td>\n      <td>6. Matchday</td>\n      <td>2012-08-25</td>\n      <td>3725</td>\n      <td>232</td>\n      <td>2</td>\n      <td>1</td>\n      <td>2.0</td>\n      <td>5.0</td>\n      <td>21700.0</td>\n      <td>Vladislav Bezborodov</td>\n      <td>RFK Akhmat Grozny</td>\n      <td>FK Spartak Moskva</td>\n    </tr>\n    <tr>\n      <th>1</th>\n      <td>2222627</td>\n      <td>RU1</td>\n      <td>2012</td>\n      <td>5. Matchday</td>\n      <td>2012-08-20</td>\n      <td>2696</td>\n      <td>4128</td>\n      <td>0</td>\n      <td>2</td>\n      <td>11.0</td>\n      <td>10.0</td>\n      <td>11400.0</td>\n      <td>Sergey Ivanov</td>\n      <td>PFK Krylya Sovetov Samara</td>\n      <td>Amkar Perm</td>\n    </tr>\n    <tr>\n      <th>2</th>\n      <td>2222658</td>\n      <td>RU1</td>\n      <td>2012</td>\n      <td>10. Matchday</td>\n      <td>2012-09-30</td>\n      <td>2410</td>\n      <td>121</td>\n      <td>0</td>\n      <td>2</td>\n      <td>2.0</td>\n      <td>13.0</td>\n      <td>12000.0</td>\n      <td>Sergey Karasev</td>\n      <td>PFK CSKA Moskva</td>\n      <td>FK Dinamo Moskva</td>\n    </tr>\n    <tr>\n      <th>3</th>\n      <td>2222664</td>\n      <td>RU1</td>\n      <td>2012</td>\n      <td>8. Matchday</td>\n      <td>2012-09-15</td>\n      <td>932</td>\n      <td>2698</td>\n      <td>1</td>\n      <td>0</td>\n      <td>5.0</td>\n      <td>8.0</td>\n      <td>11408.0</td>\n      <td>Sergey Karasev</td>\n      <td>Футбольный клуб \"Локомотив\" Москва</td>\n      <td>FC Rubin Kazan</td>\n    </tr>\n    <tr>\n      <th>4</th>\n      <td>2222683</td>\n      <td>RU1</td>\n      <td>2012</td>\n      <td>12. Matchday</td>\n      <td>2012-10-22</td>\n      <td>2696</td>\n      <td>12438</td>\n      <td>0</td>\n      <td>1</td>\n      <td>11.0</td>\n      <td>16.0</td>\n      <td>7534.0</td>\n      <td>Timur Arslanbekov</td>\n      <td>PFK Krylya Sovetov Samara</td>\n      <td>Volga Nizhniy Novgorod (- 2016)</td>\n    </tr>\n    <tr>\n      <th>...</th>\n      <td>...</td>\n      <td>...</td>\n      <td>...</td>\n      <td>...</td>\n      <td>...</td>\n      <td>...</td>\n      <td>...</td>\n      <td>...</td>\n      <td>...</td>\n      <td>...</td>\n      <td>...</td>\n      <td>...</td>\n      <td>...</td>\n      <td>...</td>\n      <td>...</td>\n    </tr>\n    <tr>\n      <th>65211</th>\n      <td>2367292</td>\n      <td>EL</td>\n      <td>2013</td>\n      <td>Group B</td>\n      <td>2013-11-07</td>\n      <td>383</td>\n      <td>419</td>\n      <td>2</td>\n      <td>0</td>\n      <td>NaN</td>\n      <td>NaN</td>\n      <td>10000.0</td>\n      <td>Cristian Balaj</td>\n      <td>Eindhovense Voetbalvereniging Philips Sport Ve...</td>\n      <td>NaN</td>\n    </tr>\n    <tr>\n      <th>65212</th>\n      <td>2629035</td>\n      <td>NLP</td>\n      <td>2015</td>\n      <td>Third Round</td>\n      <td>2015-10-27</td>\n      <td>383</td>\n      <td>16866</td>\n      <td>6</td>\n      <td>0</td>\n      <td>NaN</td>\n      <td>NaN</td>\n      <td>31000.0</td>\n      <td>Allard Lindhout</td>\n      <td>Eindhovense Voetbalvereniging Philips Sport Ve...</td>\n      <td>NaN</td>\n    </tr>\n    <tr>\n      <th>65213</th>\n      <td>3092951</td>\n      <td>CLQ</td>\n      <td>2018</td>\n      <td>Qualifying Round 2nd leg</td>\n      <td>2018-08-29</td>\n      <td>383</td>\n      <td>713</td>\n      <td>3</td>\n      <td>0</td>\n      <td>NaN</td>\n      <td>NaN</td>\n      <td>34200.0</td>\n      <td>Anthony Taylor</td>\n      <td>Eindhovense Voetbalvereniging Philips Sport Ve...</td>\n      <td>NaN</td>\n    </tr>\n    <tr>\n      <th>65214</th>\n      <td>4164101</td>\n      <td>CGB</td>\n      <td>2023</td>\n      <td>Second Round</td>\n      <td>2023-08-29</td>\n      <td>512</td>\n      <td>1194</td>\n      <td>6</td>\n      <td>1</td>\n      <td>NaN</td>\n      <td>NaN</td>\n      <td>9410.0</td>\n      <td>Michael Salisbury</td>\n      <td>Stoke City</td>\n      <td>NaN</td>\n    </tr>\n    <tr>\n      <th>65215</th>\n      <td>4013659</td>\n      <td>FAC</td>\n      <td>2022</td>\n      <td>Fourth Round</td>\n      <td>2023-01-29</td>\n      <td>512</td>\n      <td>3684</td>\n      <td>3</td>\n      <td>1</td>\n      <td>NaN</td>\n      <td>NaN</td>\n      <td>14392.0</td>\n      <td>David Webb</td>\n      <td>Stoke City</td>\n      <td>NaN</td>\n    </tr>\n  </tbody>\n</table>\n<p>65216 rows × 15 columns</p>\n</div>"
     },
     "execution_count": 92,
     "metadata": {},
     "output_type": "execute_result"
    }
   ],
   "source": [
    "from pymongo import MongoClient\n",
    "import pandas as pd\n",
    "import matplotlib.pyplot as plt\n",
    "import seaborn as sns\n",
    "from ipywidgets import interact\n",
    "import ipywidgets as widgets\n",
    "\n",
    "\n",
    "client = MongoClient('mongodb://localhost:27017/')\n",
    "db=client['MongoDB_project']\n",
    "collection = db['games']\n",
    "documents = collection.find({},{'_id':0,'home_club_manager_name':0,'away_club_manager_name':0, 'stadium':0,'refree':0,'url':0,'aggregate':0,'competition_type':0,'home_club_formation':0,'away_club_formation':0})\n",
    "games_df = pd.DataFrame(list(documents))\n",
    "\n",
    "games_df"
   ]
  },
  {
   "cell_type": "markdown",
   "source": [
    "## Type Check"
   ],
   "metadata": {
    "collapsed": false
   },
   "id": "c783af3271aed186"
  },
  {
   "cell_type": "code",
   "outputs": [
    {
     "data": {
      "text/plain": "game_id                        int64\ncompetition_id                object\nseason                         int64\nround                         object\ndate                  datetime64[ns]\nhome_club_id                   int64\naway_club_id                   int64\nhome_club_goals                int64\naway_club_goals                int64\nhome_club_position           float64\naway_club_position           float64\nattendance                   float64\nreferee                       object\nhome_club_name                object\naway_club_name                object\ndtype: object"
     },
     "execution_count": 93,
     "metadata": {},
     "output_type": "execute_result"
    }
   ],
   "source": [
    "games_df.dtypes"
   ],
   "metadata": {
    "collapsed": false,
    "ExecuteTime": {
     "end_time": "2024-05-02T10:28:28.027532Z",
     "start_time": "2024-05-02T10:28:28.019374Z"
    }
   },
   "id": "c6e995e328ed747e",
   "execution_count": 93
  },
  {
   "cell_type": "markdown",
   "source": [
    "# Analysis of Attendance at Soccer Matches\n",
    "\n",
    "In this section, we will analyze the attendance at soccer matches across different seasons, using data extracted from our MongoDB database. The goal is to assess how attendance varies over time and to identify any significant trends or patterns, with a specific focus on monthly attendance variations.\n",
    "\n",
    "We will use the `pandas` package to manipulate the data and `matplotlib` along with `ipywidgets` to display interactive charts. These charts will allow us to explore the average monthly attendance for each selected season through a dropdown menu. This analysis will help us better understand the factors that may influence spectator presence during different seasons and months.\n",
    "\n",
    "## Methodology\n",
    "The data were pre-processed using the `.loc` method to safely modify the DataFrame without risking unintended changes. We removed unnecessary columns and filtered out rows with missing values in the `attendance` attribute. We then converted the `date` column to datetime format and extracted the year and month to a new column, `year_month`, which facilitated the aggregation of attendance data on a monthly basis. We calculated descriptive statistics for monthly attendance, such as the mean, to observe trends over time within each season.\n",
    "\n",
    "\n",
    "## Data Cleanup"
   ],
   "metadata": {
    "collapsed": false
   },
   "id": "42e84e41dca6384e"
  },
  {
   "cell_type": "code",
   "outputs": [
    {
     "data": {
      "text/plain": "       game_id competition_id  season                     round       date  \\\n0      2222597            RU1    2012               6. Matchday 2012-08-25   \n1      2222627            RU1    2012               5. Matchday 2012-08-20   \n2      2222658            RU1    2012              10. Matchday 2012-09-30   \n3      2222664            RU1    2012               8. Matchday 2012-09-15   \n4      2222683            RU1    2012              12. Matchday 2012-10-22   \n...        ...            ...     ...                       ...        ...   \n65211  2367292             EL    2013                   Group B 2013-11-07   \n65212  2629035            NLP    2015               Third Round 2015-10-27   \n65213  3092951            CLQ    2018  Qualifying Round 2nd leg 2018-08-29   \n65214  4164101            CGB    2023              Second Round 2023-08-29   \n65215  4013659            FAC    2022              Fourth Round 2023-01-29   \n\n       home_club_id  away_club_id  home_club_goals  away_club_goals  \\\n0              3725           232                2                1   \n1              2696          4128                0                2   \n2              2410           121                0                2   \n3               932          2698                1                0   \n4              2696         12438                0                1   \n...             ...           ...              ...              ...   \n65211           383           419                2                0   \n65212           383         16866                6                0   \n65213           383           713                3                0   \n65214           512          1194                6                1   \n65215           512          3684                3                1   \n\n       home_club_position  away_club_position  attendance  \\\n0                     2.0                 5.0       21700   \n1                    11.0                10.0       11400   \n2                     2.0                13.0       12000   \n3                     5.0                 8.0       11408   \n4                    11.0                16.0        7534   \n...                   ...                 ...         ...   \n65211                 NaN                 NaN       10000   \n65212                 NaN                 NaN       31000   \n65213                 NaN                 NaN       34200   \n65214                 NaN                 NaN        9410   \n65215                 NaN                 NaN       14392   \n\n                    referee  \\\n0      Vladislav Bezborodov   \n1             Sergey Ivanov   \n2            Sergey Karasev   \n3            Sergey Karasev   \n4         Timur Arslanbekov   \n...                     ...   \n65211        Cristian Balaj   \n65212       Allard Lindhout   \n65213        Anthony Taylor   \n65214     Michael Salisbury   \n65215            David Webb   \n\n                                          home_club_name  \\\n0                                      RFK Akhmat Grozny   \n1                              PFK Krylya Sovetov Samara   \n2                                        PFK CSKA Moskva   \n3                     Футбольный клуб \"Локомотив\" Москва   \n4                              PFK Krylya Sovetov Samara   \n...                                                  ...   \n65211  Eindhovense Voetbalvereniging Philips Sport Ve...   \n65212  Eindhovense Voetbalvereniging Philips Sport Ve...   \n65213  Eindhovense Voetbalvereniging Philips Sport Ve...   \n65214                                         Stoke City   \n65215                                         Stoke City   \n\n                        away_club_name  \n0                    FK Spartak Moskva  \n1                           Amkar Perm  \n2                     FK Dinamo Moskva  \n3                       FC Rubin Kazan  \n4      Volga Nizhniy Novgorod (- 2016)  \n...                                ...  \n65211                              NaN  \n65212                              NaN  \n65213                              NaN  \n65214                              NaN  \n65215                              NaN  \n\n[55704 rows x 15 columns]",
      "text/html": "<div>\n<style scoped>\n    .dataframe tbody tr th:only-of-type {\n        vertical-align: middle;\n    }\n\n    .dataframe tbody tr th {\n        vertical-align: top;\n    }\n\n    .dataframe thead th {\n        text-align: right;\n    }\n</style>\n<table border=\"1\" class=\"dataframe\">\n  <thead>\n    <tr style=\"text-align: right;\">\n      <th></th>\n      <th>game_id</th>\n      <th>competition_id</th>\n      <th>season</th>\n      <th>round</th>\n      <th>date</th>\n      <th>home_club_id</th>\n      <th>away_club_id</th>\n      <th>home_club_goals</th>\n      <th>away_club_goals</th>\n      <th>home_club_position</th>\n      <th>away_club_position</th>\n      <th>attendance</th>\n      <th>referee</th>\n      <th>home_club_name</th>\n      <th>away_club_name</th>\n    </tr>\n  </thead>\n  <tbody>\n    <tr>\n      <th>0</th>\n      <td>2222597</td>\n      <td>RU1</td>\n      <td>2012</td>\n      <td>6. Matchday</td>\n      <td>2012-08-25</td>\n      <td>3725</td>\n      <td>232</td>\n      <td>2</td>\n      <td>1</td>\n      <td>2.0</td>\n      <td>5.0</td>\n      <td>21700</td>\n      <td>Vladislav Bezborodov</td>\n      <td>RFK Akhmat Grozny</td>\n      <td>FK Spartak Moskva</td>\n    </tr>\n    <tr>\n      <th>1</th>\n      <td>2222627</td>\n      <td>RU1</td>\n      <td>2012</td>\n      <td>5. Matchday</td>\n      <td>2012-08-20</td>\n      <td>2696</td>\n      <td>4128</td>\n      <td>0</td>\n      <td>2</td>\n      <td>11.0</td>\n      <td>10.0</td>\n      <td>11400</td>\n      <td>Sergey Ivanov</td>\n      <td>PFK Krylya Sovetov Samara</td>\n      <td>Amkar Perm</td>\n    </tr>\n    <tr>\n      <th>2</th>\n      <td>2222658</td>\n      <td>RU1</td>\n      <td>2012</td>\n      <td>10. Matchday</td>\n      <td>2012-09-30</td>\n      <td>2410</td>\n      <td>121</td>\n      <td>0</td>\n      <td>2</td>\n      <td>2.0</td>\n      <td>13.0</td>\n      <td>12000</td>\n      <td>Sergey Karasev</td>\n      <td>PFK CSKA Moskva</td>\n      <td>FK Dinamo Moskva</td>\n    </tr>\n    <tr>\n      <th>3</th>\n      <td>2222664</td>\n      <td>RU1</td>\n      <td>2012</td>\n      <td>8. Matchday</td>\n      <td>2012-09-15</td>\n      <td>932</td>\n      <td>2698</td>\n      <td>1</td>\n      <td>0</td>\n      <td>5.0</td>\n      <td>8.0</td>\n      <td>11408</td>\n      <td>Sergey Karasev</td>\n      <td>Футбольный клуб \"Локомотив\" Москва</td>\n      <td>FC Rubin Kazan</td>\n    </tr>\n    <tr>\n      <th>4</th>\n      <td>2222683</td>\n      <td>RU1</td>\n      <td>2012</td>\n      <td>12. Matchday</td>\n      <td>2012-10-22</td>\n      <td>2696</td>\n      <td>12438</td>\n      <td>0</td>\n      <td>1</td>\n      <td>11.0</td>\n      <td>16.0</td>\n      <td>7534</td>\n      <td>Timur Arslanbekov</td>\n      <td>PFK Krylya Sovetov Samara</td>\n      <td>Volga Nizhniy Novgorod (- 2016)</td>\n    </tr>\n    <tr>\n      <th>...</th>\n      <td>...</td>\n      <td>...</td>\n      <td>...</td>\n      <td>...</td>\n      <td>...</td>\n      <td>...</td>\n      <td>...</td>\n      <td>...</td>\n      <td>...</td>\n      <td>...</td>\n      <td>...</td>\n      <td>...</td>\n      <td>...</td>\n      <td>...</td>\n      <td>...</td>\n    </tr>\n    <tr>\n      <th>65211</th>\n      <td>2367292</td>\n      <td>EL</td>\n      <td>2013</td>\n      <td>Group B</td>\n      <td>2013-11-07</td>\n      <td>383</td>\n      <td>419</td>\n      <td>2</td>\n      <td>0</td>\n      <td>NaN</td>\n      <td>NaN</td>\n      <td>10000</td>\n      <td>Cristian Balaj</td>\n      <td>Eindhovense Voetbalvereniging Philips Sport Ve...</td>\n      <td>NaN</td>\n    </tr>\n    <tr>\n      <th>65212</th>\n      <td>2629035</td>\n      <td>NLP</td>\n      <td>2015</td>\n      <td>Third Round</td>\n      <td>2015-10-27</td>\n      <td>383</td>\n      <td>16866</td>\n      <td>6</td>\n      <td>0</td>\n      <td>NaN</td>\n      <td>NaN</td>\n      <td>31000</td>\n      <td>Allard Lindhout</td>\n      <td>Eindhovense Voetbalvereniging Philips Sport Ve...</td>\n      <td>NaN</td>\n    </tr>\n    <tr>\n      <th>65213</th>\n      <td>3092951</td>\n      <td>CLQ</td>\n      <td>2018</td>\n      <td>Qualifying Round 2nd leg</td>\n      <td>2018-08-29</td>\n      <td>383</td>\n      <td>713</td>\n      <td>3</td>\n      <td>0</td>\n      <td>NaN</td>\n      <td>NaN</td>\n      <td>34200</td>\n      <td>Anthony Taylor</td>\n      <td>Eindhovense Voetbalvereniging Philips Sport Ve...</td>\n      <td>NaN</td>\n    </tr>\n    <tr>\n      <th>65214</th>\n      <td>4164101</td>\n      <td>CGB</td>\n      <td>2023</td>\n      <td>Second Round</td>\n      <td>2023-08-29</td>\n      <td>512</td>\n      <td>1194</td>\n      <td>6</td>\n      <td>1</td>\n      <td>NaN</td>\n      <td>NaN</td>\n      <td>9410</td>\n      <td>Michael Salisbury</td>\n      <td>Stoke City</td>\n      <td>NaN</td>\n    </tr>\n    <tr>\n      <th>65215</th>\n      <td>4013659</td>\n      <td>FAC</td>\n      <td>2022</td>\n      <td>Fourth Round</td>\n      <td>2023-01-29</td>\n      <td>512</td>\n      <td>3684</td>\n      <td>3</td>\n      <td>1</td>\n      <td>NaN</td>\n      <td>NaN</td>\n      <td>14392</td>\n      <td>David Webb</td>\n      <td>Stoke City</td>\n      <td>NaN</td>\n    </tr>\n  </tbody>\n</table>\n<p>55704 rows × 15 columns</p>\n</div>"
     },
     "execution_count": 94,
     "metadata": {},
     "output_type": "execute_result"
    }
   ],
   "source": [
    "games_df = games_df.copy()\n",
    "\n",
    "# Rimuovere le righe con valori mancanti nella colonna 'attendance'\n",
    "games_df = games_df.dropna(subset=['attendance'])\n",
    "\n",
    "# Convertire 'attendance' in un formato numerico intero\n",
    "games_df['attendance'] = games_df['attendance'].astype(int)\n",
    "\n",
    "\n",
    "games_df\n",
    "\n",
    "\n"
   ],
   "metadata": {
    "collapsed": false,
    "ExecuteTime": {
     "end_time": "2024-05-02T10:28:28.081643Z",
     "start_time": "2024-05-02T10:28:28.028609Z"
    }
   },
   "id": "464a3411a42c2c11",
   "execution_count": 94
  },
  {
   "cell_type": "markdown",
   "source": [
    "## Data Analysis"
   ],
   "metadata": {
    "collapsed": false
   },
   "id": "3461425b4afa38af"
  },
  {
   "cell_type": "code",
   "outputs": [
    {
     "data": {
      "text/plain": "interactive(children=(Dropdown(description='Select Season:', options=(2012, 2013, 2014, 2015, 2016, 2017, 2018…",
      "application/vnd.jupyter.widget-view+json": {
       "version_major": 2,
       "version_minor": 0,
       "model_id": "88a1ef554fc747df8cdb1d88b5fbafd1"
      }
     },
     "metadata": {},
     "output_type": "display_data"
    },
    {
     "data": {
      "text/plain": "<function __main__.plot_attendance(season)>"
     },
     "execution_count": 99,
     "metadata": {},
     "output_type": "execute_result"
    }
   ],
   "source": [
    "\n",
    "# Modifica della funzione plot_attendance per includere controlli\n",
    "def plot_attendance(season):\n",
    "    data = games_df.loc[games_df['season'] == season].copy()\n",
    "    print(f\"Numero di partite per la stagione {season}: {len(data)}\")  # Stampa il numero di partite per stagione\n",
    "\n",
    "    # Converte 'date' in datetime, gestendo possibili valori non validi\n",
    "    data['date'] = pd.to_datetime(data['date'], errors='coerce')  # 'coerce' trasforma valori non validi in NaT\n",
    "    data = data.dropna(subset=['date'])  # Rimuovi eventuali righe con NaT in 'date'\n",
    "    \n",
    "    data.loc[:, 'year_month'] = data['date'].dt.to_period('M')\n",
    "\n",
    "    # Calcolo della media mensile di attendance\n",
    "    monthly_data = data.groupby('year_month')['attendance'].mean().reset_index()\n",
    "    monthly_data['year_month'] = monthly_data['year_month'].astype(str)  # Preparazione per il plotting\n",
    "\n",
    "   \n",
    "\n",
    "    # Plotting\n",
    "    plt.figure(figsize=(8,6))\n",
    "    sns.barplot(x='year_month', y='attendance', data=monthly_data)\n",
    "    plt.xticks(rotation=45, ha='right')\n",
    "    plt.title(f'Average Monthly Attendance in {season}')\n",
    "    plt.ylabel('Average Attendance')\n",
    "    plt.xlabel('Month')\n",
    "    plt.tight_layout()\n",
    "    plt.show()\n",
    "\n",
    "seasons = sorted(games_df['season'].unique(), key=lambda x: (x is not None, x))  # Include un controllo per None\n",
    "widgets.interact(plot_attendance, season=widgets.Dropdown(options=seasons, description=\"Select Season:\"))\n"
   ],
   "metadata": {
    "collapsed": false,
    "ExecuteTime": {
     "end_time": "2024-05-02T10:30:11.298516Z",
     "start_time": "2024-05-02T10:30:10.808914Z"
    }
   },
   "id": "e84bd42eebdb0ede",
   "execution_count": 99
  },
  {
   "cell_type": "markdown",
   "source": [
    "# Inconsistencies in Match Data\n",
    "\n",
    "During the analysis of the matches for the 2021 season, a significant issue regarding the dating of some games was uncovered. Specifically, it has been discovered that several matches attributed to the 2021 season were erroneously recorded as having taken place in 2023. This inconsistency could affect the accuracy of trend analysis and attendance figures.\n",
    "\n",
    "## Implications\n",
    "This error in the data could lead to incorrect conclusions regarding attendance trends, team performance, and other seasonal analytics. It is important to address these discrepancies before proceeding with further data analysis to ensure the reliability of our findings.\n"
   ],
   "metadata": {
    "collapsed": false
   },
   "id": "1bf1c253d58425dd"
  },
  {
   "cell_type": "code",
   "outputs": [
    {
     "data": {
      "text/plain": "                        _id  game_id competition_id  season           round  \\\n0  6613c0fc54a57856bc021a06  3989307            CGB    2021  Quarter-Finals   \n1  6613c0fc54a57856bc02219f  3989304            CGB    2021  Quarter-Finals   \n2  6613c0fc54a57856bc0230d9  3989305            CGB    2021  Quarter-Finals   \n3  6613c10054a57856bc02acf5  3989306            CGB    2021  Quarter-Finals   \n\n        date  home_club_id  away_club_id  home_club_goals  away_club_goals  \\\n0 2023-01-10           762          1003                2                0   \n1 2023-01-10           985           358                3                0   \n2 2023-01-11           180           281                2                0   \n3 2023-01-11           703           543                5                4   \n\n  home_club_manager_name away_club_manager_name            stadium  \\\n0             Eddie Howe        Brendan Rodgers     St James' Park   \n1           Erik ten Hag            Dean Holden       Old Trafford   \n2           Nathan Jones          Pep Guardiola  St Mary's Stadium   \n3           Steve Cooper        Julen Lopetegui    The City Ground   \n\n   attendance         referee  \\\n0       52009  Darren England   \n1       74345  Jarred Gillett   \n2       22996    Peter Bankes   \n3       28656    Graham Scott   \n\n                                                 url  \\\n0  https://www.transfermarkt.co.uk/spielbericht/i...   \n1  https://www.transfermarkt.co.uk/spielbericht/i...   \n2  https://www.transfermarkt.co.uk/spielbericht/i...   \n3  https://www.transfermarkt.co.uk/spielbericht/i...   \n\n                    home_club_name                         away_club_name  \\\n0   Newcastle United Football Club                         Leicester City   \n1  Manchester United Football Club                                    NaN   \n2                   Southampton FC          Manchester City Football Club   \n3  Nottingham Forest Football Club  Wolverhampton Wanderers Football Club   \n\n  aggregate competition_type  \n0       2:0            other  \n1       3:0            other  \n2       2:0            other  \n3       5:4            other  ",
      "text/html": "<div>\n<style scoped>\n    .dataframe tbody tr th:only-of-type {\n        vertical-align: middle;\n    }\n\n    .dataframe tbody tr th {\n        vertical-align: top;\n    }\n\n    .dataframe thead th {\n        text-align: right;\n    }\n</style>\n<table border=\"1\" class=\"dataframe\">\n  <thead>\n    <tr style=\"text-align: right;\">\n      <th></th>\n      <th>_id</th>\n      <th>game_id</th>\n      <th>competition_id</th>\n      <th>season</th>\n      <th>round</th>\n      <th>date</th>\n      <th>home_club_id</th>\n      <th>away_club_id</th>\n      <th>home_club_goals</th>\n      <th>away_club_goals</th>\n      <th>home_club_manager_name</th>\n      <th>away_club_manager_name</th>\n      <th>stadium</th>\n      <th>attendance</th>\n      <th>referee</th>\n      <th>url</th>\n      <th>home_club_name</th>\n      <th>away_club_name</th>\n      <th>aggregate</th>\n      <th>competition_type</th>\n    </tr>\n  </thead>\n  <tbody>\n    <tr>\n      <th>0</th>\n      <td>6613c0fc54a57856bc021a06</td>\n      <td>3989307</td>\n      <td>CGB</td>\n      <td>2021</td>\n      <td>Quarter-Finals</td>\n      <td>2023-01-10</td>\n      <td>762</td>\n      <td>1003</td>\n      <td>2</td>\n      <td>0</td>\n      <td>Eddie Howe</td>\n      <td>Brendan Rodgers</td>\n      <td>St James' Park</td>\n      <td>52009</td>\n      <td>Darren England</td>\n      <td>https://www.transfermarkt.co.uk/spielbericht/i...</td>\n      <td>Newcastle United Football Club</td>\n      <td>Leicester City</td>\n      <td>2:0</td>\n      <td>other</td>\n    </tr>\n    <tr>\n      <th>1</th>\n      <td>6613c0fc54a57856bc02219f</td>\n      <td>3989304</td>\n      <td>CGB</td>\n      <td>2021</td>\n      <td>Quarter-Finals</td>\n      <td>2023-01-10</td>\n      <td>985</td>\n      <td>358</td>\n      <td>3</td>\n      <td>0</td>\n      <td>Erik ten Hag</td>\n      <td>Dean Holden</td>\n      <td>Old Trafford</td>\n      <td>74345</td>\n      <td>Jarred Gillett</td>\n      <td>https://www.transfermarkt.co.uk/spielbericht/i...</td>\n      <td>Manchester United Football Club</td>\n      <td>NaN</td>\n      <td>3:0</td>\n      <td>other</td>\n    </tr>\n    <tr>\n      <th>2</th>\n      <td>6613c0fc54a57856bc0230d9</td>\n      <td>3989305</td>\n      <td>CGB</td>\n      <td>2021</td>\n      <td>Quarter-Finals</td>\n      <td>2023-01-11</td>\n      <td>180</td>\n      <td>281</td>\n      <td>2</td>\n      <td>0</td>\n      <td>Nathan Jones</td>\n      <td>Pep Guardiola</td>\n      <td>St Mary's Stadium</td>\n      <td>22996</td>\n      <td>Peter Bankes</td>\n      <td>https://www.transfermarkt.co.uk/spielbericht/i...</td>\n      <td>Southampton FC</td>\n      <td>Manchester City Football Club</td>\n      <td>2:0</td>\n      <td>other</td>\n    </tr>\n    <tr>\n      <th>3</th>\n      <td>6613c10054a57856bc02acf5</td>\n      <td>3989306</td>\n      <td>CGB</td>\n      <td>2021</td>\n      <td>Quarter-Finals</td>\n      <td>2023-01-11</td>\n      <td>703</td>\n      <td>543</td>\n      <td>5</td>\n      <td>4</td>\n      <td>Steve Cooper</td>\n      <td>Julen Lopetegui</td>\n      <td>The City Ground</td>\n      <td>28656</td>\n      <td>Graham Scott</td>\n      <td>https://www.transfermarkt.co.uk/spielbericht/i...</td>\n      <td>Nottingham Forest Football Club</td>\n      <td>Wolverhampton Wanderers Football Club</td>\n      <td>5:4</td>\n      <td>other</td>\n    </tr>\n  </tbody>\n</table>\n</div>"
     },
     "execution_count": 96,
     "metadata": {},
     "output_type": "execute_result"
    }
   ],
   "source": [
    "\n",
    "query = {\n",
    "    'date': {\n",
    "        '$gte': pd.Timestamp('2023-01-01T00:00:00.000Z'),\n",
    "        '$lt': pd.Timestamp('2024-01-01T00:00:00.000Z')   \n",
    "    },\n",
    "    'season': 2021 \n",
    "}\n",
    "\n",
    "\n",
    "documents = collection.find(query)\n",
    "\n",
    "\n",
    "copy_games_df = pd.DataFrame(list(documents))\n",
    "\n",
    "\n",
    "copy_games_df"
   ],
   "metadata": {
    "collapsed": false,
    "ExecuteTime": {
     "end_time": "2024-05-02T10:28:28.454522Z",
     "start_time": "2024-05-02T10:28:28.409936Z"
    }
   },
   "id": "7813244e812bbca8",
   "execution_count": 96
  },
  {
   "cell_type": "code",
   "outputs": [],
   "source": [
    "\n"
   ],
   "metadata": {
    "collapsed": false,
    "ExecuteTime": {
     "end_time": "2024-05-02T10:28:28.458740Z",
     "start_time": "2024-05-02T10:28:28.456076Z"
    }
   },
   "id": "201340df2aa72e63",
   "execution_count": 96
  },
  {
   "cell_type": "code",
   "outputs": [],
   "source": [],
   "metadata": {
    "collapsed": false,
    "ExecuteTime": {
     "end_time": "2024-05-02T10:28:28.463316Z",
     "start_time": "2024-05-02T10:28:28.460277Z"
    }
   },
   "id": "abb4b54bebcc7587",
   "execution_count": 96
  }
 ],
 "metadata": {
  "kernelspec": {
   "display_name": "Python 3",
   "language": "python",
   "name": "python3"
  },
  "language_info": {
   "codemirror_mode": {
    "name": "ipython",
    "version": 2
   },
   "file_extension": ".py",
   "mimetype": "text/x-python",
   "name": "python",
   "nbconvert_exporter": "python",
   "pygments_lexer": "ipython2",
   "version": "2.7.6"
  }
 },
 "nbformat": 4,
 "nbformat_minor": 5
}

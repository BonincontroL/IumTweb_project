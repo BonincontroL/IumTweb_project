{
 "cells": [
  {
   "cell_type": "code",
   "execution_count": 10,
   "id": "initial_id",
   "metadata": {
    "collapsed": true,
    "ExecuteTime": {
     "end_time": "2024-04-29T12:59:25.262356700Z",
     "start_time": "2024-04-29T12:59:23.563521500Z"
    }
   },
   "outputs": [
    {
     "data": {
      "text/plain": "                            _id  game_id competition_id  season  \\\n0      6613c0f854a57856bc01b85c  2222597            RU1    2012   \n1      6613c0f854a57856bc01b85d  2222627            RU1    2012   \n2      6613c0f854a57856bc01b85e  2222658            RU1    2012   \n3      6613c0f854a57856bc01b85f  2222664            RU1    2012   \n4      6613c0f854a57856bc01b860  2222683            RU1    2012   \n...                         ...      ...            ...     ...   \n65211  6613c10054a57856bc02b718  2367292             EL    2013   \n65212  6613c10054a57856bc02b719  2629035            NLP    2015   \n65213  6613c10054a57856bc02b71a  3092951            CLQ    2018   \n65214  6613c10054a57856bc02b71b  4164101            CGB    2023   \n65215  6613c10054a57856bc02b71c  4013659            FAC    2022   \n\n                          round       date  home_club_id  away_club_id  \\\n0                   6. Matchday 2012-08-25          3725           232   \n1                   5. Matchday 2012-08-20          2696          4128   \n2                  10. Matchday 2012-09-30          2410           121   \n3                   8. Matchday 2012-09-15           932          2698   \n4                  12. Matchday 2012-10-22          2696         12438   \n...                         ...        ...           ...           ...   \n65211                   Group B 2013-11-07           383           419   \n65212               Third Round 2015-10-27           383         16866   \n65213  Qualifying Round 2nd leg 2018-08-29           383           713   \n65214              Second Round 2023-08-29           512          1194   \n65215              Fourth Round 2023-01-29           512          3684   \n\n       home_club_goals  away_club_goals  ...          stadium  attendance  \\\n0                    2                1  ...     Akhmat-Arena     21700.0   \n1                    0                2  ...        Metallurg     11400.0   \n2                    0                2  ...     Arena Khimki     12000.0   \n3                    1                0  ...        RZD Arena     11408.0   \n4                    0                1  ...        Metallurg      7534.0   \n...                ...              ...  ...              ...         ...   \n65211                2                0  ...  Philips Stadion     10000.0   \n65212                6                0  ...  Philips Stadion     31000.0   \n65213                3                0  ...  Philips Stadion     34200.0   \n65214                6                1  ...   bet365 Stadium      9410.0   \n65215                3                1  ...   bet365 Stadium     14392.0   \n\n                    referee  \\\n0      Vladislav Bezborodov   \n1             Sergey Ivanov   \n2            Sergey Karasev   \n3            Sergey Karasev   \n4         Timur Arslanbekov   \n...                     ...   \n65211        Cristian Balaj   \n65212       Allard Lindhout   \n65213        Anthony Taylor   \n65214     Michael Salisbury   \n65215            David Webb   \n\n                                                     url  \\\n0      https://www.transfermarkt.co.uk/terek-grozny_s...   \n1      https://www.transfermarkt.co.uk/krylya-sovetov...   \n2      https://www.transfermarkt.co.uk/cska-moscow_di...   \n3      https://www.transfermarkt.co.uk/lokomotiv-mosc...   \n4      https://www.transfermarkt.co.uk/krylya-sovetov...   \n...                                                  ...   \n65211  https://www.transfermarkt.co.uk/spielbericht/i...   \n65212  https://www.transfermarkt.co.uk/spielbericht/i...   \n65213  https://www.transfermarkt.co.uk/spielbericht/i...   \n65214  https://www.transfermarkt.co.uk/spielbericht/i...   \n65215  https://www.transfermarkt.co.uk/spielbericht/i...   \n\n                                          home_club_name  \\\n0                                      RFK Akhmat Grozny   \n1                              PFK Krylya Sovetov Samara   \n2                                        PFK CSKA Moskva   \n3                     Футбольный клуб \"Локомотив\" Москва   \n4                              PFK Krylya Sovetov Samara   \n...                                                  ...   \n65211  Eindhovense Voetbalvereniging Philips Sport Ve...   \n65212  Eindhovense Voetbalvereniging Philips Sport Ve...   \n65213  Eindhovense Voetbalvereniging Philips Sport Ve...   \n65214                                         Stoke City   \n65215                                         Stoke City   \n\n                        away_club_name aggregate   competition_type  \\\n0                    FK Spartak Moskva       2:1    domestic_league   \n1                           Amkar Perm       0:2    domestic_league   \n2                     FK Dinamo Moskva       0:2    domestic_league   \n3                       FC Rubin Kazan       1:0    domestic_league   \n4      Volga Nizhniy Novgorod (- 2016)       0:1    domestic_league   \n...                                ...       ...                ...   \n65211                              NaN       2:0  international_cup   \n65212                              NaN       6:0       domestic_cup   \n65213                              NaN       3:0  international_cup   \n65214                              NaN       6:1              other   \n65215                              NaN       3:1       domestic_cup   \n\n      home_club_formation away_club_formation  \n0                     NaN                 NaN  \n1                     NaN                 NaN  \n2                     NaN                 NaN  \n3                     NaN                 NaN  \n4                     NaN                 NaN  \n...                   ...                 ...  \n65211                 NaN                 NaN  \n65212                 NaN                 NaN  \n65213                 NaN                 NaN  \n65214             4-2-3-1             4-2-3-1  \n65215                 NaN                 NaN  \n\n[65216 rows x 24 columns]",
      "text/html": "<div>\n<style scoped>\n    .dataframe tbody tr th:only-of-type {\n        vertical-align: middle;\n    }\n\n    .dataframe tbody tr th {\n        vertical-align: top;\n    }\n\n    .dataframe thead th {\n        text-align: right;\n    }\n</style>\n<table border=\"1\" class=\"dataframe\">\n  <thead>\n    <tr style=\"text-align: right;\">\n      <th></th>\n      <th>_id</th>\n      <th>game_id</th>\n      <th>competition_id</th>\n      <th>season</th>\n      <th>round</th>\n      <th>date</th>\n      <th>home_club_id</th>\n      <th>away_club_id</th>\n      <th>home_club_goals</th>\n      <th>away_club_goals</th>\n      <th>...</th>\n      <th>stadium</th>\n      <th>attendance</th>\n      <th>referee</th>\n      <th>url</th>\n      <th>home_club_name</th>\n      <th>away_club_name</th>\n      <th>aggregate</th>\n      <th>competition_type</th>\n      <th>home_club_formation</th>\n      <th>away_club_formation</th>\n    </tr>\n  </thead>\n  <tbody>\n    <tr>\n      <th>0</th>\n      <td>6613c0f854a57856bc01b85c</td>\n      <td>2222597</td>\n      <td>RU1</td>\n      <td>2012</td>\n      <td>6. Matchday</td>\n      <td>2012-08-25</td>\n      <td>3725</td>\n      <td>232</td>\n      <td>2</td>\n      <td>1</td>\n      <td>...</td>\n      <td>Akhmat-Arena</td>\n      <td>21700.0</td>\n      <td>Vladislav Bezborodov</td>\n      <td>https://www.transfermarkt.co.uk/terek-grozny_s...</td>\n      <td>RFK Akhmat Grozny</td>\n      <td>FK Spartak Moskva</td>\n      <td>2:1</td>\n      <td>domestic_league</td>\n      <td>NaN</td>\n      <td>NaN</td>\n    </tr>\n    <tr>\n      <th>1</th>\n      <td>6613c0f854a57856bc01b85d</td>\n      <td>2222627</td>\n      <td>RU1</td>\n      <td>2012</td>\n      <td>5. Matchday</td>\n      <td>2012-08-20</td>\n      <td>2696</td>\n      <td>4128</td>\n      <td>0</td>\n      <td>2</td>\n      <td>...</td>\n      <td>Metallurg</td>\n      <td>11400.0</td>\n      <td>Sergey Ivanov</td>\n      <td>https://www.transfermarkt.co.uk/krylya-sovetov...</td>\n      <td>PFK Krylya Sovetov Samara</td>\n      <td>Amkar Perm</td>\n      <td>0:2</td>\n      <td>domestic_league</td>\n      <td>NaN</td>\n      <td>NaN</td>\n    </tr>\n    <tr>\n      <th>2</th>\n      <td>6613c0f854a57856bc01b85e</td>\n      <td>2222658</td>\n      <td>RU1</td>\n      <td>2012</td>\n      <td>10. Matchday</td>\n      <td>2012-09-30</td>\n      <td>2410</td>\n      <td>121</td>\n      <td>0</td>\n      <td>2</td>\n      <td>...</td>\n      <td>Arena Khimki</td>\n      <td>12000.0</td>\n      <td>Sergey Karasev</td>\n      <td>https://www.transfermarkt.co.uk/cska-moscow_di...</td>\n      <td>PFK CSKA Moskva</td>\n      <td>FK Dinamo Moskva</td>\n      <td>0:2</td>\n      <td>domestic_league</td>\n      <td>NaN</td>\n      <td>NaN</td>\n    </tr>\n    <tr>\n      <th>3</th>\n      <td>6613c0f854a57856bc01b85f</td>\n      <td>2222664</td>\n      <td>RU1</td>\n      <td>2012</td>\n      <td>8. Matchday</td>\n      <td>2012-09-15</td>\n      <td>932</td>\n      <td>2698</td>\n      <td>1</td>\n      <td>0</td>\n      <td>...</td>\n      <td>RZD Arena</td>\n      <td>11408.0</td>\n      <td>Sergey Karasev</td>\n      <td>https://www.transfermarkt.co.uk/lokomotiv-mosc...</td>\n      <td>Футбольный клуб \"Локомотив\" Москва</td>\n      <td>FC Rubin Kazan</td>\n      <td>1:0</td>\n      <td>domestic_league</td>\n      <td>NaN</td>\n      <td>NaN</td>\n    </tr>\n    <tr>\n      <th>4</th>\n      <td>6613c0f854a57856bc01b860</td>\n      <td>2222683</td>\n      <td>RU1</td>\n      <td>2012</td>\n      <td>12. Matchday</td>\n      <td>2012-10-22</td>\n      <td>2696</td>\n      <td>12438</td>\n      <td>0</td>\n      <td>1</td>\n      <td>...</td>\n      <td>Metallurg</td>\n      <td>7534.0</td>\n      <td>Timur Arslanbekov</td>\n      <td>https://www.transfermarkt.co.uk/krylya-sovetov...</td>\n      <td>PFK Krylya Sovetov Samara</td>\n      <td>Volga Nizhniy Novgorod (- 2016)</td>\n      <td>0:1</td>\n      <td>domestic_league</td>\n      <td>NaN</td>\n      <td>NaN</td>\n    </tr>\n    <tr>\n      <th>...</th>\n      <td>...</td>\n      <td>...</td>\n      <td>...</td>\n      <td>...</td>\n      <td>...</td>\n      <td>...</td>\n      <td>...</td>\n      <td>...</td>\n      <td>...</td>\n      <td>...</td>\n      <td>...</td>\n      <td>...</td>\n      <td>...</td>\n      <td>...</td>\n      <td>...</td>\n      <td>...</td>\n      <td>...</td>\n      <td>...</td>\n      <td>...</td>\n      <td>...</td>\n      <td>...</td>\n    </tr>\n    <tr>\n      <th>65211</th>\n      <td>6613c10054a57856bc02b718</td>\n      <td>2367292</td>\n      <td>EL</td>\n      <td>2013</td>\n      <td>Group B</td>\n      <td>2013-11-07</td>\n      <td>383</td>\n      <td>419</td>\n      <td>2</td>\n      <td>0</td>\n      <td>...</td>\n      <td>Philips Stadion</td>\n      <td>10000.0</td>\n      <td>Cristian Balaj</td>\n      <td>https://www.transfermarkt.co.uk/spielbericht/i...</td>\n      <td>Eindhovense Voetbalvereniging Philips Sport Ve...</td>\n      <td>NaN</td>\n      <td>2:0</td>\n      <td>international_cup</td>\n      <td>NaN</td>\n      <td>NaN</td>\n    </tr>\n    <tr>\n      <th>65212</th>\n      <td>6613c10054a57856bc02b719</td>\n      <td>2629035</td>\n      <td>NLP</td>\n      <td>2015</td>\n      <td>Third Round</td>\n      <td>2015-10-27</td>\n      <td>383</td>\n      <td>16866</td>\n      <td>6</td>\n      <td>0</td>\n      <td>...</td>\n      <td>Philips Stadion</td>\n      <td>31000.0</td>\n      <td>Allard Lindhout</td>\n      <td>https://www.transfermarkt.co.uk/spielbericht/i...</td>\n      <td>Eindhovense Voetbalvereniging Philips Sport Ve...</td>\n      <td>NaN</td>\n      <td>6:0</td>\n      <td>domestic_cup</td>\n      <td>NaN</td>\n      <td>NaN</td>\n    </tr>\n    <tr>\n      <th>65213</th>\n      <td>6613c10054a57856bc02b71a</td>\n      <td>3092951</td>\n      <td>CLQ</td>\n      <td>2018</td>\n      <td>Qualifying Round 2nd leg</td>\n      <td>2018-08-29</td>\n      <td>383</td>\n      <td>713</td>\n      <td>3</td>\n      <td>0</td>\n      <td>...</td>\n      <td>Philips Stadion</td>\n      <td>34200.0</td>\n      <td>Anthony Taylor</td>\n      <td>https://www.transfermarkt.co.uk/spielbericht/i...</td>\n      <td>Eindhovense Voetbalvereniging Philips Sport Ve...</td>\n      <td>NaN</td>\n      <td>3:0</td>\n      <td>international_cup</td>\n      <td>NaN</td>\n      <td>NaN</td>\n    </tr>\n    <tr>\n      <th>65214</th>\n      <td>6613c10054a57856bc02b71b</td>\n      <td>4164101</td>\n      <td>CGB</td>\n      <td>2023</td>\n      <td>Second Round</td>\n      <td>2023-08-29</td>\n      <td>512</td>\n      <td>1194</td>\n      <td>6</td>\n      <td>1</td>\n      <td>...</td>\n      <td>bet365 Stadium</td>\n      <td>9410.0</td>\n      <td>Michael Salisbury</td>\n      <td>https://www.transfermarkt.co.uk/spielbericht/i...</td>\n      <td>Stoke City</td>\n      <td>NaN</td>\n      <td>6:1</td>\n      <td>other</td>\n      <td>4-2-3-1</td>\n      <td>4-2-3-1</td>\n    </tr>\n    <tr>\n      <th>65215</th>\n      <td>6613c10054a57856bc02b71c</td>\n      <td>4013659</td>\n      <td>FAC</td>\n      <td>2022</td>\n      <td>Fourth Round</td>\n      <td>2023-01-29</td>\n      <td>512</td>\n      <td>3684</td>\n      <td>3</td>\n      <td>1</td>\n      <td>...</td>\n      <td>bet365 Stadium</td>\n      <td>14392.0</td>\n      <td>David Webb</td>\n      <td>https://www.transfermarkt.co.uk/spielbericht/i...</td>\n      <td>Stoke City</td>\n      <td>NaN</td>\n      <td>3:1</td>\n      <td>domestic_cup</td>\n      <td>NaN</td>\n      <td>NaN</td>\n    </tr>\n  </tbody>\n</table>\n<p>65216 rows × 24 columns</p>\n</div>"
     },
     "execution_count": 10,
     "metadata": {},
     "output_type": "execute_result"
    }
   ],
   "source": [
    "from pymongo import MongoClient\n",
    "import pandas as pd\n",
    "client = MongoClient('mongodb://localhost:27017/')\n",
    "db=client['MongoDB_project']\n",
    "collection = db['games']\n",
    "documents = collection.find()\n",
    "games_df = pd.DataFrame(list(documents))\n",
    "games_df"
   ]
  },
  {
   "cell_type": "code",
   "outputs": [],
   "source": [],
   "metadata": {
    "collapsed": false,
    "ExecuteTime": {
     "end_time": "2024-04-29T12:42:19.855794400Z",
     "start_time": "2024-04-29T12:42:19.846654500Z"
    }
   },
   "id": "c6e995e328ed747e",
   "execution_count": 3
  },
  {
   "cell_type": "code",
   "outputs": [],
   "source": [],
   "metadata": {
    "collapsed": false,
    "ExecuteTime": {
     "end_time": "2024-04-29T12:42:19.856779900Z",
     "start_time": "2024-04-29T12:42:19.849020900Z"
    }
   },
   "id": "3a3f44f4e1a7557b",
   "execution_count": 3
  },
  {
   "cell_type": "code",
   "outputs": [],
   "source": [],
   "metadata": {
    "collapsed": false,
    "ExecuteTime": {
     "end_time": "2024-04-29T12:42:19.856779900Z",
     "start_time": "2024-04-29T12:42:19.852531600Z"
    }
   },
   "id": "464a3411a42c2c11",
   "execution_count": 3
  }
 ],
 "metadata": {
  "kernelspec": {
   "display_name": "Python 3",
   "language": "python",
   "name": "python3"
  },
  "language_info": {
   "codemirror_mode": {
    "name": "ipython",
    "version": 2
   },
   "file_extension": ".py",
   "mimetype": "text/x-python",
   "name": "python",
   "nbconvert_exporter": "python",
   "pygments_lexer": "ipython2",
   "version": "2.7.6"
  }
 },
 "nbformat": 4,
 "nbformat_minor": 5
}
